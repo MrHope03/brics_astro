{
 "cells": [
  {
   "cell_type": "markdown",
   "id": "cbc518a8-8076-4618-97b8-4030bcdf1818",
   "metadata": {},
   "source": [
    "# Pandas: Analysing Tabular Data\n",
    "[![Open In Colab](https://colab.research.google.com/assets/colab-badge.svg)](https://colab.research.google.com/github/Danselem/brics_astro/blob/main/Week2/02_pandas.ipynb)\n",
    "\n",
    "Welcome to a new tool in your Python arsenal: **Pandas**. While NumPy is excellent for working with arrays of numbers, astronomical data often comes in structured tables – like star catalogues, observation logs, or exoplanet databases. These tables usually have different types of data in different columns (text names, numerical values, dates, etc.) and helpful labels for both columns and rows.\n",
    "\n",
    "Pandas is a powerful library built specifically for handling and analysing this kind of structured, tabular data. Its main data structure, the **DataFrame**, is like a super-powered spreadsheet or a database table right within your Python code.\n",
    "\n",
    "This notebook will introduce you to the basics of using Pandas DataFrames to work with astronomical tables, making data cleaning, analysis, and exploration much more intuitive and efficient.\n",
    "\n",
    "**Learning Objectives:**\n",
    "\n",
    "*   Understand what Pandas is and why it's useful for tabular data.\n",
    "*   Learn about the core Pandas data structure: the DataFrame.\n",
    "*   Create DataFrames from various sources.\n",
    "*   Access and select columns and rows in a DataFrame.\n",
    "*   Filter DataFrames based on conditions.\n",
    "*   Perform basic operations and calculations on DataFrame columns.\n",
    "*   Read data into DataFrames from local files (CSV).\n",
    "*   Read data into DataFrames directly from online sources (URLs).\n",
    "*   Handle simple cases of missing data.\n",
    "\n",
    "**Prerequisites:**\n",
    "\n",
    "*   Basic familiarity with Python syntax (variables, data types, lists, dictionaries).\n",
    "*   Basic understanding of NumPy arrays.\n",
    "*   Familiarity with Jupyter Notebooks.\n",
    "\n",
    "**Key Terms:**\n",
    "\n",
    "*   **Pandas:** A Python library for data analysis and manipulation.\n",
    "*   **DataFrame:** A 2-dimensional labelled data structure with columns of potentially different types. Like a spreadsheet or table.\n",
    "*   **Series:** A 1-dimensional labelled array. Each column in a DataFrame is a Series.\n",
    "*   **Index:** The labels for the rows in a DataFrame.\n",
    "*   **Column:** A vertical sequence of data in a DataFrame, usually representing a specific attribute (e.g., 'Name', 'Mass', 'Temperature').\n",
    "*   **CSV:** Comma-Separated Values. A common text file format for storing tabular data.\n",
    "\n",
    "\n",
    "**Note**\n",
    "If you are running this jupyter notebook from Colab, then run the next cell by pressing `SHIFT+ENTER` to install the required packages for this notebook. Otherwise, skip the next cell."
   ]
  },
  {
   "cell_type": "code",
   "execution_count": null,
   "id": "53189c83-7ab5-4e08-8572-230f234ce04d",
   "metadata": {},
   "outputs": [],
   "source": [
    "!pip install numpy pandas matplotlib"
   ]
  },
  {
   "cell_type": "markdown",
   "id": "e9641875-351a-4be8-b63d-5b701e7256bf",
   "metadata": {},
   "source": [
    "## What is Pandas and the DataFrame\n",
    "\n",
    "Imagine you have data like this:\n",
    "\n",
    "```code\n",
    "Name        | Type      | Distance (light-years)\n",
    "---         | ---       | ---\n",
    "Andromeda   | Spiral    | 2.537 million\n",
    "Milky Way   | Spiral    | 0 (our galaxy)\n",
    "Triangulum  | Spiral    | 3.0 million\n",
    "Large Magellanic Cloud | Irregular | 0.16 million\n",
    "```\n",
    "\n",
    "In Python lists, you might store this as lists within lists:"
   ]
  },
  {
   "cell_type": "code",
   "execution_count": 3,
   "id": "02d961c2-3209-4f12-9b80-66c71142f4a8",
   "metadata": {},
   "outputs": [],
   "source": [
    "galaxies_list = [\n",
    "    ['Andromeda', 'Spiral', 2.537],\n",
    "    ['Milky Way', 'Spiral', 0.0],\n",
    "    ['Triangulum', 'Spiral', 3.0],\n",
    "    ['Large Magellanic Cloud', 'Irregular', 0.16]\n",
    "]\n",
    "\n",
    "# Or maybe a list of dictionaries:\n",
    "galaxies_list_of_dicts = [\n",
    "    {'Name': 'Andromeda', 'Type': 'Spiral', 'Distance_mly': 2.537},\n",
    "    {'Name': 'Milky Way', 'Type': 'Spiral', 'Distance_mly': 0.0},\n",
    "    {'Name': 'Triangulum', 'Type': 'Spiral', 'Distance_mly': 3.0},\n",
    "    {'Name': 'Large Magellanic Cloud', 'Type': 'Irregular', 'Distance_mly': 0.16}\n",
    "]"
   ]
  },
  {
   "cell_type": "markdown",
   "id": "2c068efc-b7b8-4334-a077-9e50df555bb0",
   "metadata": {},
   "source": [
    "These work, but performing operations (like finding the average distance of only Spiral galaxies)\n",
    "can become complex with nested loops and conditional logic.\n",
    "\n",
    "Pandas provides the DataFrame, which is much better suited for this:\n"
   ]
  },
  {
   "cell_type": "code",
   "execution_count": 6,
   "id": "543e49a0-895a-49b2-9369-e4463ab286b6",
   "metadata": {},
   "outputs": [
    {
     "name": "stdout",
     "output_type": "stream",
     "text": [
      "Our Galaxies DataFrame:\n"
     ]
    },
    {
     "data": {
      "text/html": [
       "<div>\n",
       "<style scoped>\n",
       "    .dataframe tbody tr th:only-of-type {\n",
       "        vertical-align: middle;\n",
       "    }\n",
       "\n",
       "    .dataframe tbody tr th {\n",
       "        vertical-align: top;\n",
       "    }\n",
       "\n",
       "    .dataframe thead th {\n",
       "        text-align: right;\n",
       "    }\n",
       "</style>\n",
       "<table border=\"1\" class=\"dataframe\">\n",
       "  <thead>\n",
       "    <tr style=\"text-align: right;\">\n",
       "      <th></th>\n",
       "      <th>Name</th>\n",
       "      <th>Type</th>\n",
       "      <th>Distance_mly</th>\n",
       "    </tr>\n",
       "  </thead>\n",
       "  <tbody>\n",
       "    <tr>\n",
       "      <th>0</th>\n",
       "      <td>Andromeda</td>\n",
       "      <td>Spiral</td>\n",
       "      <td>2.537</td>\n",
       "    </tr>\n",
       "    <tr>\n",
       "      <th>1</th>\n",
       "      <td>Milky Way</td>\n",
       "      <td>Spiral</td>\n",
       "      <td>0.000</td>\n",
       "    </tr>\n",
       "    <tr>\n",
       "      <th>2</th>\n",
       "      <td>Triangulum</td>\n",
       "      <td>Spiral</td>\n",
       "      <td>3.000</td>\n",
       "    </tr>\n",
       "    <tr>\n",
       "      <th>3</th>\n",
       "      <td>Large Magellanic Cloud</td>\n",
       "      <td>Irregular</td>\n",
       "      <td>0.160</td>\n",
       "    </tr>\n",
       "  </tbody>\n",
       "</table>\n",
       "</div>"
      ],
      "text/plain": [
       "                     Name       Type  Distance_mly\n",
       "0               Andromeda     Spiral         2.537\n",
       "1               Milky Way     Spiral         0.000\n",
       "2              Triangulum     Spiral         3.000\n",
       "3  Large Magellanic Cloud  Irregular         0.160"
      ]
     },
     "execution_count": 6,
     "metadata": {},
     "output_type": "execute_result"
    }
   ],
   "source": [
    "import pandas as pd # Standard way to import Pandas\n",
    "\n",
    "# Creating a DataFrame from our list of dictionaries:\n",
    "galaxies_df = pd.DataFrame(galaxies_list_of_dicts)\n",
    "\n",
    "# Printing the DataFrame:\n",
    "print(\"Our Galaxies DataFrame:\")\n",
    "galaxies_df"
   ]
  },
  {
   "cell_type": "markdown",
   "id": "7df0390a-7ac4-45e5-ba40-daea988b5207",
   "metadata": {},
   "source": [
    "Notice how it's structured with column names and row numbers (the index).\n",
    "This makes working with the data much easier!\n",
    "\n",
    "## Creating DataFrames\n",
    "\n",
    "The most common ways to create a DataFrame are:\n",
    "\n",
    "1.  **From a Dictionary:** Where keys are column names and values are lists or NumPy arrays of data for those columns. This is often the easiest way to start with small datasets you define in your code.\n",
    "2.  **From a List of Dictionaries:** Each dictionary represents a row.\n",
    "3.  **From Files:** Reading data from CSV, Excel, JSON files, etc.\n",
    "4.  **From Online Sources:** Reading directly from URLs.\n",
    "\n",
    "We'll focus on the dictionary method first, then move to files and URLs.\n",
    "\n",
    "### Example 1: Creating a DataFrame from a Dictionary\n",
    "\n",
    "Data for some bright stars: Name, Spectral Type, Apparent Magnitude"
   ]
  },
  {
   "cell_type": "code",
   "execution_count": 7,
   "id": "9b67e3c9-70a1-4c3f-b0df-d3ad45cbac59",
   "metadata": {},
   "outputs": [
    {
     "name": "stdout",
     "output_type": "stream",
     "text": [
      "DataFrame created from dictionary:\n"
     ]
    },
    {
     "data": {
      "text/html": [
       "<div>\n",
       "<style scoped>\n",
       "    .dataframe tbody tr th:only-of-type {\n",
       "        vertical-align: middle;\n",
       "    }\n",
       "\n",
       "    .dataframe tbody tr th {\n",
       "        vertical-align: top;\n",
       "    }\n",
       "\n",
       "    .dataframe thead th {\n",
       "        text-align: right;\n",
       "    }\n",
       "</style>\n",
       "<table border=\"1\" class=\"dataframe\">\n",
       "  <thead>\n",
       "    <tr style=\"text-align: right;\">\n",
       "      <th></th>\n",
       "      <th>Name</th>\n",
       "      <th>Spectral_Type</th>\n",
       "      <th>Apparent_Magnitude</th>\n",
       "    </tr>\n",
       "  </thead>\n",
       "  <tbody>\n",
       "    <tr>\n",
       "      <th>0</th>\n",
       "      <td>Sirius</td>\n",
       "      <td>A1V</td>\n",
       "      <td>-1.46</td>\n",
       "    </tr>\n",
       "    <tr>\n",
       "      <th>1</th>\n",
       "      <td>Canopus</td>\n",
       "      <td>F0</td>\n",
       "      <td>-0.72</td>\n",
       "    </tr>\n",
       "    <tr>\n",
       "      <th>2</th>\n",
       "      <td>Alpha Centauri</td>\n",
       "      <td>G2V</td>\n",
       "      <td>-0.27</td>\n",
       "    </tr>\n",
       "    <tr>\n",
       "      <th>3</th>\n",
       "      <td>Arcturus</td>\n",
       "      <td>K1.5III</td>\n",
       "      <td>-0.04</td>\n",
       "    </tr>\n",
       "  </tbody>\n",
       "</table>\n",
       "</div>"
      ],
      "text/plain": [
       "             Name Spectral_Type  Apparent_Magnitude\n",
       "0          Sirius           A1V               -1.46\n",
       "1         Canopus            F0               -0.72\n",
       "2  Alpha Centauri           G2V               -0.27\n",
       "3        Arcturus       K1.5III               -0.04"
      ]
     },
     "execution_count": 7,
     "metadata": {},
     "output_type": "execute_result"
    }
   ],
   "source": [
    "star_data_dict = {\n",
    "    'Name': ['Sirius', 'Canopus', 'Alpha Centauri', 'Arcturus'],\n",
    "    'Spectral_Type': ['A1V', 'F0', 'G2V', 'K1.5III'],\n",
    "    'Apparent_Magnitude': [-1.46, -0.72, -0.27, -0.04]\n",
    "}\n",
    "\n",
    "# Create the DataFrame\n",
    "bright_stars_df = pd.DataFrame(star_data_dict)\n",
    "\n",
    "print(\"DataFrame created from dictionary:\")\n",
    "bright_stars_df"
   ]
  },
  {
   "cell_type": "markdown",
   "id": "20105b7d-f042-4b4e-9d63-c1e863ac8440",
   "metadata": {},
   "source": [
    "Each key in the dictionary becomes a column name.\n",
    "The lists become the data in those columns.\n",
    "Pandas automatically adds a numerical index (0, 1, 2, 3) for the rows.\n",
    "\n",
    "## Accessing and Selecting Data\n",
    "\n",
    "Once you have a DataFrame, you need to be able to select specific columns, rows, or even individual values.\n",
    "\n",
    "*   **Selecting Columns:** You can select one or more columns using their names.\n",
    "*   **Selecting Rows:** You can select rows using their index label (`.loc`) or their integer position (`.iloc`).\n",
    "*   **Selecting Specific Cells:** Combine row and column selection.\n",
    "\n",
    "\n",
    "### Example 2: Selecting Columns\n",
    "\n",
    "\n",
    "Using our bright_stars_df from Example 1\n"
   ]
  },
  {
   "cell_type": "code",
   "execution_count": 43,
   "id": "9979999f-582e-4fae-b3d5-a460468abc65",
   "metadata": {},
   "outputs": [
    {
     "name": "stdout",
     "output_type": "stream",
     "text": [
      "Original DataFrame:\n"
     ]
    },
    {
     "data": {
      "text/html": [
       "<div>\n",
       "<style scoped>\n",
       "    .dataframe tbody tr th:only-of-type {\n",
       "        vertical-align: middle;\n",
       "    }\n",
       "\n",
       "    .dataframe tbody tr th {\n",
       "        vertical-align: top;\n",
       "    }\n",
       "\n",
       "    .dataframe thead th {\n",
       "        text-align: right;\n",
       "    }\n",
       "</style>\n",
       "<table border=\"1\" class=\"dataframe\">\n",
       "  <thead>\n",
       "    <tr style=\"text-align: right;\">\n",
       "      <th></th>\n",
       "      <th>Name</th>\n",
       "      <th>Spectral_Type</th>\n",
       "      <th>Apparent_Magnitude</th>\n",
       "    </tr>\n",
       "  </thead>\n",
       "  <tbody>\n",
       "    <tr>\n",
       "      <th>0</th>\n",
       "      <td>Sirius</td>\n",
       "      <td>A1V</td>\n",
       "      <td>-1.46</td>\n",
       "    </tr>\n",
       "    <tr>\n",
       "      <th>1</th>\n",
       "      <td>Canopus</td>\n",
       "      <td>F0</td>\n",
       "      <td>-0.72</td>\n",
       "    </tr>\n",
       "    <tr>\n",
       "      <th>2</th>\n",
       "      <td>Alpha Centauri</td>\n",
       "      <td>G2V</td>\n",
       "      <td>-0.27</td>\n",
       "    </tr>\n",
       "    <tr>\n",
       "      <th>3</th>\n",
       "      <td>Arcturus</td>\n",
       "      <td>K1.5III</td>\n",
       "      <td>-0.04</td>\n",
       "    </tr>\n",
       "  </tbody>\n",
       "</table>\n",
       "</div>"
      ],
      "text/plain": [
       "             Name Spectral_Type  Apparent_Magnitude\n",
       "0          Sirius           A1V               -1.46\n",
       "1         Canopus            F0               -0.72\n",
       "2  Alpha Centauri           G2V               -0.27\n",
       "3        Arcturus       K1.5III               -0.04"
      ]
     },
     "execution_count": 43,
     "metadata": {},
     "output_type": "execute_result"
    }
   ],
   "source": [
    "print(\"Original DataFrame:\")\n",
    "bright_stars_df"
   ]
  },
  {
   "cell_type": "code",
   "execution_count": 44,
   "id": "9d29473d-91ea-42bc-bb08-2d2e2190e5e8",
   "metadata": {},
   "outputs": [
    {
     "name": "stdout",
     "output_type": "stream",
     "text": [
      "\n",
      "Selecting the 'Name' column:\n",
      "0            Sirius\n",
      "1           Canopus\n",
      "2    Alpha Centauri\n",
      "3          Arcturus\n",
      "Name: Name, dtype: object\n",
      "Type of selected column: <class 'pandas.core.series.Series'>\n"
     ]
    }
   ],
   "source": [
    "# Select a single column:\n",
    "# Result is a Pandas Series (a 1D labeled array)\n",
    "star_names = bright_stars_df['Name'] # Use column name like a dictionary key\n",
    "print(\"\\nSelecting the 'Name' column:\")\n",
    "print(star_names)\n",
    "print(\"Type of selected column:\", type(star_names)) # It's a Series"
   ]
  },
  {
   "cell_type": "code",
   "execution_count": 6,
   "id": "cfa27a5d-927a-4581-8374-58455d495e0d",
   "metadata": {},
   "outputs": [
    {
     "name": "stdout",
     "output_type": "stream",
     "text": [
      "\n",
      "Selecting 'Name' and 'Apparent_Magnitude' columns:\n",
      "             Name  Apparent_Magnitude\n",
      "0          Sirius               -1.46\n",
      "1         Canopus               -0.72\n",
      "2  Alpha Centauri               -0.27\n",
      "3        Arcturus               -0.04\n",
      "Type of selected columns: <class 'pandas.core.frame.DataFrame'>\n"
     ]
    }
   ],
   "source": [
    "# Select multiple columns:\n",
    "# Pass a list of column names. Result is a DataFrame.\n",
    "names_and_magnitudes = bright_stars_df[['Name', 'Apparent_Magnitude']] # Use a LIST of names\n",
    "print(\"\\nSelecting 'Name' and 'Apparent_Magnitude' columns:\")\n",
    "print(names_and_magnitudes)\n",
    "print(\"Type of selected columns:\", type(names_and_magnitudes)) # It's a DataFrame"
   ]
  },
  {
   "cell_type": "markdown",
   "id": "80c326d6-c278-45bb-a404-de1d7ffe309b",
   "metadata": {},
   "source": [
    "### Example 3: Selecting Rows with .loc and .iloc\n",
    "\n",
    "Using our bright_stars_df"
   ]
  },
  {
   "cell_type": "code",
   "execution_count": 45,
   "id": "dbf2438a-681a-49eb-a3a3-66ce77678100",
   "metadata": {},
   "outputs": [
    {
     "name": "stdout",
     "output_type": "stream",
     "text": [
      "Original DataFrame:\n"
     ]
    },
    {
     "data": {
      "text/html": [
       "<div>\n",
       "<style scoped>\n",
       "    .dataframe tbody tr th:only-of-type {\n",
       "        vertical-align: middle;\n",
       "    }\n",
       "\n",
       "    .dataframe tbody tr th {\n",
       "        vertical-align: top;\n",
       "    }\n",
       "\n",
       "    .dataframe thead th {\n",
       "        text-align: right;\n",
       "    }\n",
       "</style>\n",
       "<table border=\"1\" class=\"dataframe\">\n",
       "  <thead>\n",
       "    <tr style=\"text-align: right;\">\n",
       "      <th></th>\n",
       "      <th>Name</th>\n",
       "      <th>Spectral_Type</th>\n",
       "      <th>Apparent_Magnitude</th>\n",
       "    </tr>\n",
       "  </thead>\n",
       "  <tbody>\n",
       "    <tr>\n",
       "      <th>0</th>\n",
       "      <td>Sirius</td>\n",
       "      <td>A1V</td>\n",
       "      <td>-1.46</td>\n",
       "    </tr>\n",
       "    <tr>\n",
       "      <th>1</th>\n",
       "      <td>Canopus</td>\n",
       "      <td>F0</td>\n",
       "      <td>-0.72</td>\n",
       "    </tr>\n",
       "    <tr>\n",
       "      <th>2</th>\n",
       "      <td>Alpha Centauri</td>\n",
       "      <td>G2V</td>\n",
       "      <td>-0.27</td>\n",
       "    </tr>\n",
       "    <tr>\n",
       "      <th>3</th>\n",
       "      <td>Arcturus</td>\n",
       "      <td>K1.5III</td>\n",
       "      <td>-0.04</td>\n",
       "    </tr>\n",
       "  </tbody>\n",
       "</table>\n",
       "</div>"
      ],
      "text/plain": [
       "             Name Spectral_Type  Apparent_Magnitude\n",
       "0          Sirius           A1V               -1.46\n",
       "1         Canopus            F0               -0.72\n",
       "2  Alpha Centauri           G2V               -0.27\n",
       "3        Arcturus       K1.5III               -0.04"
      ]
     },
     "execution_count": 45,
     "metadata": {},
     "output_type": "execute_result"
    }
   ],
   "source": [
    "print(\"Original DataFrame:\")\n",
    "bright_stars_df"
   ]
  },
  {
   "cell_type": "code",
   "execution_count": 8,
   "id": "44c3eba6-818c-4c38-8cb6-d68f878f90b5",
   "metadata": {},
   "outputs": [
    {
     "name": "stdout",
     "output_type": "stream",
     "text": [
      "\n",
      "Selecting row with label 0 (Sirius) using .loc:\n",
      "Name                  Sirius\n",
      "Spectral_Type            A1V\n",
      "Apparent_Magnitude     -1.46\n",
      "Name: 0, dtype: object\n",
      "Type of selected row: <class 'pandas.core.series.Series'>\n"
     ]
    }
   ],
   "source": [
    "# Select a row by its label using .loc\n",
    "# The default labels are the integer index (0, 1, 2, ...)\n",
    "sirius_row = bright_stars_df.loc[0] # Get the row with index label 0\n",
    "print(\"\\nSelecting row with label 0 (Sirius) using .loc:\")\n",
    "print(sirius_row)\n",
    "print(\"Type of selected row:\", type(sirius_row)) # It's a Series"
   ]
  },
  {
   "cell_type": "code",
   "execution_count": 46,
   "id": "c32a8ba5-8c17-482f-969b-f35e5c0ee05e",
   "metadata": {},
   "outputs": [
    {
     "name": "stdout",
     "output_type": "stream",
     "text": [
      "\n",
      "Selecting row at position 1 (Canopus) using .iloc:\n"
     ]
    },
    {
     "data": {
      "text/plain": [
       "Name                  Canopus\n",
       "Spectral_Type              F0\n",
       "Apparent_Magnitude      -0.72\n",
       "Name: 1, dtype: object"
      ]
     },
     "execution_count": 46,
     "metadata": {},
     "output_type": "execute_result"
    }
   ],
   "source": [
    "# Select a row by its integer position using .iloc\n",
    "# This is just like list/NumPy array indexing\n",
    "canopus_row = bright_stars_df.iloc[1] # Get the row at integer position 1\n",
    "print(\"\\nSelecting row at position 1 (Canopus) using .iloc:\")\n",
    "canopus_row"
   ]
  },
  {
   "cell_type": "code",
   "execution_count": 10,
   "id": "1e46426f-dae5-4016-a559-42b0f25df695",
   "metadata": {},
   "outputs": [
    {
     "name": "stdout",
     "output_type": "stream",
     "text": [
      "\n",
      "Selecting rows with labels 0 to 1 (Sirius and Canopus) using .loc[0:1]:\n",
      "      Name Spectral_Type  Apparent_Magnitude\n",
      "0   Sirius           A1V               -1.46\n",
      "1  Canopus            F0               -0.72\n"
     ]
    }
   ],
   "source": [
    "# Select multiple rows using slicing with .loc (uses labels)\n",
    "first_two_stars_loc = bright_stars_df.loc[0:1] # Includes label 1! (Unlike Python list slicing)\n",
    "print(\"\\nSelecting rows with labels 0 to 1 (Sirius and Canopus) using .loc[0:1]:\")\n",
    "print(first_two_stars_loc)"
   ]
  },
  {
   "cell_type": "code",
   "execution_count": 11,
   "id": "8f4d9cf6-2424-419b-b37e-f7f6c9a1f215",
   "metadata": {},
   "outputs": [
    {
     "name": "stdout",
     "output_type": "stream",
     "text": [
      "\n",
      "Selecting rows at positions 0 and 1 (Sirius and Canopus) using .iloc[0:2]:\n",
      "      Name Spectral_Type  Apparent_Magnitude\n",
      "0   Sirius           A1V               -1.46\n",
      "1  Canopus            F0               -0.72\n"
     ]
    }
   ],
   "source": [
    "# Select multiple rows using slicing with .iloc (uses positions)\n",
    "first_two_stars_iloc = bright_stars_df.iloc[0:2] # Excludes position 2 (Like Python list slicing)\n",
    "print(\"\\nSelecting rows at positions 0 and 1 (Sirius and Canopus) using .iloc[0:2]:\")\n",
    "print(first_two_stars_iloc)"
   ]
  },
  {
   "cell_type": "markdown",
   "id": "bbca5836-ae34-4f82-a805-7f0ab7556b15",
   "metadata": {},
   "source": [
    "### Example 4: Selecting Specific Cells"
   ]
  },
  {
   "cell_type": "code",
   "execution_count": 8,
   "id": "6baeec55-dc23-47a9-b170-94f31d009681",
   "metadata": {},
   "outputs": [
    {
     "name": "stdout",
     "output_type": "stream",
     "text": [
      "Original DataFrame:\n",
      "             Name Spectral_Type  Apparent_Magnitude\n",
      "0          Sirius           A1V               -1.46\n",
      "1         Canopus            F0               -0.72\n",
      "2  Alpha Centauri           G2V               -0.27\n",
      "3        Arcturus       K1.5III               -0.04\n",
      "\n",
      "Sirius's magnitude using .loc[0, 'Apparent_Magnitude']: -1.46\n"
     ]
    }
   ],
   "source": [
    "# Using our bright_stars_df\n",
    "print(\"Original DataFrame:\")\n",
    "print(bright_stars_df)\n",
    "\n",
    "# Select a specific value (Sirius's magnitude) using .loc[row_label, column_label]\n",
    "sirius_mag = bright_stars_df.loc[0, 'Apparent_Magnitude']\n",
    "print(\"\\nSirius's magnitude using .loc[0, 'Apparent_Magnitude']:\", sirius_mag)"
   ]
  },
  {
   "cell_type": "code",
   "execution_count": 47,
   "id": "97b1901c-04b0-4b1e-9243-f15832cb4b64",
   "metadata": {},
   "outputs": [
    {
     "name": "stdout",
     "output_type": "stream",
     "text": [
      "Canopus's Spectral Type using .iloc[1, 1]: F0\n",
      "\n",
      "Selecting subset of rows and columns:\n"
     ]
    },
    {
     "data": {
      "text/html": [
       "<div>\n",
       "<style scoped>\n",
       "    .dataframe tbody tr th:only-of-type {\n",
       "        vertical-align: middle;\n",
       "    }\n",
       "\n",
       "    .dataframe tbody tr th {\n",
       "        vertical-align: top;\n",
       "    }\n",
       "\n",
       "    .dataframe thead th {\n",
       "        text-align: right;\n",
       "    }\n",
       "</style>\n",
       "<table border=\"1\" class=\"dataframe\">\n",
       "  <thead>\n",
       "    <tr style=\"text-align: right;\">\n",
       "      <th></th>\n",
       "      <th>Name</th>\n",
       "      <th>Apparent_Magnitude</th>\n",
       "    </tr>\n",
       "  </thead>\n",
       "  <tbody>\n",
       "    <tr>\n",
       "      <th>1</th>\n",
       "      <td>Canopus</td>\n",
       "      <td>-0.72</td>\n",
       "    </tr>\n",
       "    <tr>\n",
       "      <th>2</th>\n",
       "      <td>Alpha Centauri</td>\n",
       "      <td>-0.27</td>\n",
       "    </tr>\n",
       "  </tbody>\n",
       "</table>\n",
       "</div>"
      ],
      "text/plain": [
       "             Name  Apparent_Magnitude\n",
       "1         Canopus               -0.72\n",
       "2  Alpha Centauri               -0.27"
      ]
     },
     "execution_count": 47,
     "metadata": {},
     "output_type": "execute_result"
    }
   ],
   "source": [
    "# Select a specific value (Canopus's Spectral Type) using .iloc[row_position, column_position]\n",
    "canopus_spectral_type = bright_stars_df.iloc[1, 1]\n",
    "print(\"Canopus's Spectral Type using .iloc[1, 1]:\", canopus_spectral_type)\n",
    "\n",
    "# Selecting a slice of rows and a slice of columns\n",
    "some_data = bright_stars_df.loc[1:2, ['Name', 'Apparent_Magnitude']]\n",
    "print(\"\\nSelecting subset of rows and columns:\")\n",
    "some_data"
   ]
  },
  {
   "cell_type": "markdown",
   "id": "06a170ee-924a-4e59-b62e-48af93be4e8c",
   "metadata": {},
   "source": [
    "## Filtering DataFrames\n",
    "\n",
    "A very common task is to select only the rows that meet certain criteria. Pandas makes this easy using boolean indexing, similar to NumPy. You create a condition that results in a Series of `True`/`False` values, and then use this Series to select the rows where the condition is `True`.\n",
    "\n",
    "### Example 5: Filtering Rows"
   ]
  },
  {
   "cell_type": "code",
   "execution_count": 14,
   "id": "d275a890-4a61-4e3f-be2f-b2c973ca8762",
   "metadata": {},
   "outputs": [
    {
     "name": "stdout",
     "output_type": "stream",
     "text": [
      "Original DataFrame:\n",
      "             Name Spectral_Type  Apparent_Magnitude\n",
      "0          Sirius           A1V               -1.46\n",
      "1         Canopus            F0               -0.72\n",
      "2  Alpha Centauri           G2V               -0.27\n",
      "3        Arcturus       K1.5III               -0.04\n",
      "\n",
      "Boolean Series for stars brighter than 0.0:\n",
      "0    True\n",
      "1    True\n",
      "2    True\n",
      "3    True\n",
      "Name: Apparent_Magnitude, dtype: bool\n"
     ]
    }
   ],
   "source": [
    "# Using our bright_stars_df\n",
    "print(\"Original DataFrame:\")\n",
    "print(bright_stars_df)\n",
    "\n",
    "# Condition 1: Find stars that are brighter than magnitude 0.0 (smaller number = brighter)\n",
    "is_brighter_than_0 = bright_stars_df['Apparent_Magnitude'] < 0.0\n",
    "print(\"\\nBoolean Series for stars brighter than 0.0:\")\n",
    "print(is_brighter_than_0)"
   ]
  },
  {
   "cell_type": "code",
   "execution_count": 15,
   "id": "b3a4ad67-3ad9-4c65-bf25-2e436380ac10",
   "metadata": {},
   "outputs": [
    {
     "name": "stdout",
     "output_type": "stream",
     "text": [
      "\n",
      "DataFrame filtered for stars brighter than 0.0:\n",
      "             Name Spectral_Type  Apparent_Magnitude\n",
      "0          Sirius           A1V               -1.46\n",
      "1         Canopus            F0               -0.72\n",
      "2  Alpha Centauri           G2V               -0.27\n",
      "3        Arcturus       K1.5III               -0.04\n",
      "\n",
      "Boolean Series for stars with Spectral Type 'G2V':\n",
      "0    False\n",
      "1    False\n",
      "2     True\n",
      "3    False\n",
      "Name: Spectral_Type, dtype: bool\n"
     ]
    }
   ],
   "source": [
    "# Use the boolean Series to filter the DataFrame\n",
    "very_bright_stars_df = bright_stars_df[is_brighter_than_0]\n",
    "print(\"\\nDataFrame filtered for stars brighter than 0.0:\")\n",
    "print(very_bright_stars_df)\n",
    "\n",
    "# Condition 2: Find stars that are Spectral Type 'G2V'\n",
    "is_spectral_type_G2V = bright_stars_df['Spectral_Type'] == 'G2V'\n",
    "print(\"\\nBoolean Series for stars with Spectral Type 'G2V':\")\n",
    "print(is_spectral_type_G2V)"
   ]
  },
  {
   "cell_type": "code",
   "execution_count": 48,
   "id": "36ef8604-88ed-4853-8599-b160bf3bd959",
   "metadata": {},
   "outputs": [
    {
     "name": "stdout",
     "output_type": "stream",
     "text": [
      "\n",
      "DataFrame filtered for Spectral Type 'G2V':\n"
     ]
    },
    {
     "data": {
      "text/html": [
       "<div>\n",
       "<style scoped>\n",
       "    .dataframe tbody tr th:only-of-type {\n",
       "        vertical-align: middle;\n",
       "    }\n",
       "\n",
       "    .dataframe tbody tr th {\n",
       "        vertical-align: top;\n",
       "    }\n",
       "\n",
       "    .dataframe thead th {\n",
       "        text-align: right;\n",
       "    }\n",
       "</style>\n",
       "<table border=\"1\" class=\"dataframe\">\n",
       "  <thead>\n",
       "    <tr style=\"text-align: right;\">\n",
       "      <th></th>\n",
       "      <th>Name</th>\n",
       "      <th>Spectral_Type</th>\n",
       "      <th>Apparent_Magnitude</th>\n",
       "    </tr>\n",
       "  </thead>\n",
       "  <tbody>\n",
       "    <tr>\n",
       "      <th>2</th>\n",
       "      <td>Alpha Centauri</td>\n",
       "      <td>G2V</td>\n",
       "      <td>-0.27</td>\n",
       "    </tr>\n",
       "  </tbody>\n",
       "</table>\n",
       "</div>"
      ],
      "text/plain": [
       "             Name Spectral_Type  Apparent_Magnitude\n",
       "2  Alpha Centauri           G2V               -0.27"
      ]
     },
     "execution_count": 48,
     "metadata": {},
     "output_type": "execute_result"
    }
   ],
   "source": [
    "# Filter using the condition directly (common shorthand)\n",
    "G2V_stars_df = bright_stars_df[bright_stars_df['Spectral_Type'] == 'G2V']\n",
    "print(\"\\nDataFrame filtered for Spectral Type 'G2V':\")\n",
    "G2V_stars_df"
   ]
  },
  {
   "cell_type": "markdown",
   "id": "4ade55d3-a8f5-4a96-a9c3-8086a5176d54",
   "metadata": {},
   "source": [
    "You can combine multiple conditions using logical operators:\n",
    "\n",
    "```code\n",
    "&  (AND)\n",
    "|  (OR)\n",
    "~  (NOT)\n",
    "```\n",
    "\n",
    "**IMPORTANT:** Each condition must be enclosed in parentheses `()`\n",
    "\n",
    "\n",
    "### Example 6: Filtering with Multiple Conditions"
   ]
  },
  {
   "cell_type": "code",
   "execution_count": 49,
   "id": "ef7e6429-e527-4985-beb3-4b489d22c28b",
   "metadata": {},
   "outputs": [
    {
     "name": "stdout",
     "output_type": "stream",
     "text": [
      "Stars brighter than 0.0 AND Spectral Type 'A1V':\n"
     ]
    },
    {
     "data": {
      "text/html": [
       "<div>\n",
       "<style scoped>\n",
       "    .dataframe tbody tr th:only-of-type {\n",
       "        vertical-align: middle;\n",
       "    }\n",
       "\n",
       "    .dataframe tbody tr th {\n",
       "        vertical-align: top;\n",
       "    }\n",
       "\n",
       "    .dataframe thead th {\n",
       "        text-align: right;\n",
       "    }\n",
       "</style>\n",
       "<table border=\"1\" class=\"dataframe\">\n",
       "  <thead>\n",
       "    <tr style=\"text-align: right;\">\n",
       "      <th></th>\n",
       "      <th>Name</th>\n",
       "      <th>Spectral_Type</th>\n",
       "      <th>Apparent_Magnitude</th>\n",
       "    </tr>\n",
       "  </thead>\n",
       "  <tbody>\n",
       "    <tr>\n",
       "      <th>0</th>\n",
       "      <td>Sirius</td>\n",
       "      <td>A1V</td>\n",
       "      <td>-1.46</td>\n",
       "    </tr>\n",
       "  </tbody>\n",
       "</table>\n",
       "</div>"
      ],
      "text/plain": [
       "     Name Spectral_Type  Apparent_Magnitude\n",
       "0  Sirius           A1V               -1.46"
      ]
     },
     "execution_count": 49,
     "metadata": {},
     "output_type": "execute_result"
    }
   ],
   "source": [
    "# Find stars that are brighter than 0.0 AND have Spectral Type 'A1V'\n",
    "bright_and_A1V = (bright_stars_df['Apparent_Magnitude'] < 0.0) & (bright_stars_df['Spectral_Type'] == 'A1V')\n",
    "filtered_df = bright_stars_df[bright_and_A1V]\n",
    "print(\"Stars brighter than 0.0 AND Spectral Type 'A1V':\")\n",
    "filtered_df"
   ]
  },
  {
   "cell_type": "code",
   "execution_count": 50,
   "id": "87f8e2e4-0482-47d2-9a6a-018e5b9bce83",
   "metadata": {},
   "outputs": [
    {
     "name": "stdout",
     "output_type": "stream",
     "text": [
      "\n",
      "Stars with Spectral Type 'F0' OR 'K1.5III':\n"
     ]
    },
    {
     "data": {
      "text/html": [
       "<div>\n",
       "<style scoped>\n",
       "    .dataframe tbody tr th:only-of-type {\n",
       "        vertical-align: middle;\n",
       "    }\n",
       "\n",
       "    .dataframe tbody tr th {\n",
       "        vertical-align: top;\n",
       "    }\n",
       "\n",
       "    .dataframe thead th {\n",
       "        text-align: right;\n",
       "    }\n",
       "</style>\n",
       "<table border=\"1\" class=\"dataframe\">\n",
       "  <thead>\n",
       "    <tr style=\"text-align: right;\">\n",
       "      <th></th>\n",
       "      <th>Name</th>\n",
       "      <th>Spectral_Type</th>\n",
       "      <th>Apparent_Magnitude</th>\n",
       "    </tr>\n",
       "  </thead>\n",
       "  <tbody>\n",
       "    <tr>\n",
       "      <th>1</th>\n",
       "      <td>Canopus</td>\n",
       "      <td>F0</td>\n",
       "      <td>-0.72</td>\n",
       "    </tr>\n",
       "    <tr>\n",
       "      <th>3</th>\n",
       "      <td>Arcturus</td>\n",
       "      <td>K1.5III</td>\n",
       "      <td>-0.04</td>\n",
       "    </tr>\n",
       "  </tbody>\n",
       "</table>\n",
       "</div>"
      ],
      "text/plain": [
       "       Name Spectral_Type  Apparent_Magnitude\n",
       "1   Canopus            F0               -0.72\n",
       "3  Arcturus       K1.5III               -0.04"
      ]
     },
     "execution_count": 50,
     "metadata": {},
     "output_type": "execute_result"
    }
   ],
   "source": [
    "# Find stars that are Spectral Type 'F0' OR Spectral Type 'K1.5III'\n",
    "F0_or_K_stars = (bright_stars_df['Spectral_Type'] == 'F0') | (bright_stars_df['Spectral_Type'] == 'K1.5III')\n",
    "filtered_df_or = bright_stars_df[F0_or_K_stars]\n",
    "print(\"\\nStars with Spectral Type 'F0' OR 'K1.5III':\")\n",
    "filtered_df_or"
   ]
  },
  {
   "cell_type": "markdown",
   "id": "27c82e6f-83a7-4089-a2bd-e3932259b577",
   "metadata": {},
   "source": [
    "## Basic Operations and Adding New Columns\n",
    "\n",
    "You can perform mathematical operations on entire columns (Series) directly. You can also easily add new columns to your DataFrame, often based on calculations from existing columns.\n",
    "\n",
    "### Example 7: Operations and Adding Columns"
   ]
  },
  {
   "cell_type": "code",
   "execution_count": 51,
   "id": "1304e7ce-e889-49c7-b50d-9379eda7ec5b",
   "metadata": {},
   "outputs": [
    {
     "name": "stdout",
     "output_type": "stream",
     "text": [
      "Original DataFrame:\n"
     ]
    },
    {
     "data": {
      "text/html": [
       "<div>\n",
       "<style scoped>\n",
       "    .dataframe tbody tr th:only-of-type {\n",
       "        vertical-align: middle;\n",
       "    }\n",
       "\n",
       "    .dataframe tbody tr th {\n",
       "        vertical-align: top;\n",
       "    }\n",
       "\n",
       "    .dataframe thead th {\n",
       "        text-align: right;\n",
       "    }\n",
       "</style>\n",
       "<table border=\"1\" class=\"dataframe\">\n",
       "  <thead>\n",
       "    <tr style=\"text-align: right;\">\n",
       "      <th></th>\n",
       "      <th>Name</th>\n",
       "      <th>Spectral_Type</th>\n",
       "      <th>Apparent_Magnitude</th>\n",
       "    </tr>\n",
       "  </thead>\n",
       "  <tbody>\n",
       "    <tr>\n",
       "      <th>0</th>\n",
       "      <td>Sirius</td>\n",
       "      <td>A1V</td>\n",
       "      <td>-1.46</td>\n",
       "    </tr>\n",
       "    <tr>\n",
       "      <th>1</th>\n",
       "      <td>Canopus</td>\n",
       "      <td>F0</td>\n",
       "      <td>-0.72</td>\n",
       "    </tr>\n",
       "    <tr>\n",
       "      <th>2</th>\n",
       "      <td>Alpha Centauri</td>\n",
       "      <td>G2V</td>\n",
       "      <td>-0.27</td>\n",
       "    </tr>\n",
       "    <tr>\n",
       "      <th>3</th>\n",
       "      <td>Arcturus</td>\n",
       "      <td>K1.5III</td>\n",
       "      <td>-0.04</td>\n",
       "    </tr>\n",
       "  </tbody>\n",
       "</table>\n",
       "</div>"
      ],
      "text/plain": [
       "             Name Spectral_Type  Apparent_Magnitude\n",
       "0          Sirius           A1V               -1.46\n",
       "1         Canopus            F0               -0.72\n",
       "2  Alpha Centauri           G2V               -0.27\n",
       "3        Arcturus       K1.5III               -0.04"
      ]
     },
     "execution_count": 51,
     "metadata": {},
     "output_type": "execute_result"
    }
   ],
   "source": [
    "# Using our bright_stars_df\n",
    "print(\"Original DataFrame:\")\n",
    "bright_stars_df"
   ]
  },
  {
   "cell_type": "markdown",
   "id": "a0253be4-ff61-43a2-a1f4-1750d16e3102",
   "metadata": {},
   "source": [
    "Add a new column for Absolute Magnitude (simplified calculation)\n",
    "\n",
    "`Absolute Magnitude (M) = Apparent Magnitude (m) - 5 * log10(distance in parsecs / 10)`\n",
    "\n",
    "Let's assume some hypothetical distances in parsecs for these stars"
   ]
  },
  {
   "cell_type": "code",
   "execution_count": 53,
   "id": "138c6adb-3c2a-4c19-b71a-bba169cc2f81",
   "metadata": {},
   "outputs": [],
   "source": [
    "distances_pc = pd.Series([1.34, 99.0, 1.34, 11.0]) # Create a Series with distances\n",
    "bright_stars_df['Distance_pc'] = distances_pc # Add this Series as a new column"
   ]
  },
  {
   "cell_type": "code",
   "execution_count": 54,
   "id": "ead1f4a0-6202-4999-8fac-beb597da32f0",
   "metadata": {},
   "outputs": [
    {
     "name": "stdout",
     "output_type": "stream",
     "text": [
      "\n",
      "DataFrame after adding 'Distance_pc' and 'Absolute_Magnitude' columns:\n"
     ]
    },
    {
     "data": {
      "text/html": [
       "<div>\n",
       "<style scoped>\n",
       "    .dataframe tbody tr th:only-of-type {\n",
       "        vertical-align: middle;\n",
       "    }\n",
       "\n",
       "    .dataframe tbody tr th {\n",
       "        vertical-align: top;\n",
       "    }\n",
       "\n",
       "    .dataframe thead th {\n",
       "        text-align: right;\n",
       "    }\n",
       "</style>\n",
       "<table border=\"1\" class=\"dataframe\">\n",
       "  <thead>\n",
       "    <tr style=\"text-align: right;\">\n",
       "      <th></th>\n",
       "      <th>Name</th>\n",
       "      <th>Spectral_Type</th>\n",
       "      <th>Apparent_Magnitude</th>\n",
       "      <th>Distance_pc</th>\n",
       "      <th>Absolute_Magnitude</th>\n",
       "    </tr>\n",
       "  </thead>\n",
       "  <tbody>\n",
       "    <tr>\n",
       "      <th>0</th>\n",
       "      <td>Sirius</td>\n",
       "      <td>A1V</td>\n",
       "      <td>-1.46</td>\n",
       "      <td>1.34</td>\n",
       "      <td>2.904476</td>\n",
       "    </tr>\n",
       "    <tr>\n",
       "      <th>1</th>\n",
       "      <td>Canopus</td>\n",
       "      <td>F0</td>\n",
       "      <td>-0.72</td>\n",
       "      <td>99.00</td>\n",
       "      <td>-5.698176</td>\n",
       "    </tr>\n",
       "    <tr>\n",
       "      <th>2</th>\n",
       "      <td>Alpha Centauri</td>\n",
       "      <td>G2V</td>\n",
       "      <td>-0.27</td>\n",
       "      <td>1.34</td>\n",
       "      <td>4.094476</td>\n",
       "    </tr>\n",
       "    <tr>\n",
       "      <th>3</th>\n",
       "      <td>Arcturus</td>\n",
       "      <td>K1.5III</td>\n",
       "      <td>-0.04</td>\n",
       "      <td>11.00</td>\n",
       "      <td>-0.246963</td>\n",
       "    </tr>\n",
       "  </tbody>\n",
       "</table>\n",
       "</div>"
      ],
      "text/plain": [
       "             Name Spectral_Type  Apparent_Magnitude  Distance_pc  \\\n",
       "0          Sirius           A1V               -1.46         1.34   \n",
       "1         Canopus            F0               -0.72        99.00   \n",
       "2  Alpha Centauri           G2V               -0.27         1.34   \n",
       "3        Arcturus       K1.5III               -0.04        11.00   \n",
       "\n",
       "   Absolute_Magnitude  \n",
       "0            2.904476  \n",
       "1           -5.698176  \n",
       "2            4.094476  \n",
       "3           -0.246963  "
      ]
     },
     "execution_count": 54,
     "metadata": {},
     "output_type": "execute_result"
    }
   ],
   "source": [
    "# Now calculate Absolute Magnitude\n",
    "# Need numpy for log10\n",
    "import numpy as np\n",
    "\n",
    "bright_stars_df['Absolute_Magnitude'] = bright_stars_df['Apparent_Magnitude'] - 5 * np.log10(bright_stars_df['Distance_pc'] / 10)\n",
    "\n",
    "print(\"\\nDataFrame after adding 'Distance_pc' and 'Absolute_Magnitude' columns:\")\n",
    "bright_stars_df"
   ]
  },
  {
   "cell_type": "code",
   "execution_count": 55,
   "id": "0d77295f-13f5-48cd-a6ba-d537ae1ed985",
   "metadata": {},
   "outputs": [
    {
     "name": "stdout",
     "output_type": "stream",
     "text": [
      "\n",
      "Average Apparent Magnitude: -0.62\n",
      "Maximum Absolute Magnitude: 4.09\n"
     ]
    }
   ],
   "source": [
    "# Calculate the average Apparent Magnitude\n",
    "average_apparent_mag = bright_stars_df['Apparent_Magnitude'].mean() # Use .mean() method on the Series\n",
    "print(f\"\\nAverage Apparent Magnitude: {average_apparent_mag:.2f}\")\n",
    "\n",
    "# Calculate the maximum Absolute Magnitude\n",
    "max_absolute_mag = bright_stars_df['Absolute_Magnitude'].max()\n",
    "print(f\"Maximum Absolute Magnitude: {max_absolute_mag:.2f}\")"
   ]
  },
  {
   "cell_type": "markdown",
   "id": "6473d1dc-98cc-4f83-9a1a-fb999c00ed4c",
   "metadata": {},
   "source": [
    "## Reading Data from Files (CSV)\n",
    "\n",
    "Real astronomical data often comes in files, especially CSV (Comma-Separated Values) files. Pandas provides the `pd.read_csv()` function, which is extremely useful for loading these files directly into a DataFrame.\n",
    "\n",
    "### Example 8: Reading from a Local CSV File\n",
    "\n",
    "First, let's create a simple dummy CSV file named `exoplanet_data.csv` with some hypothetical data. You can create this file manually or run this code:"
   ]
  },
  {
   "cell_type": "code",
   "execution_count": 24,
   "id": "f0d1dfe2-f75d-444a-ad88-a9afe33018fa",
   "metadata": {},
   "outputs": [
    {
     "name": "stdout",
     "output_type": "stream",
     "text": [
      "Created dummy file 'exoplanet_data.csv'\n"
     ]
    }
   ],
   "source": [
    "# Example 8: Reading from a Local CSV File\n",
    "\n",
    "# First, let's create a simple dummy CSV file named 'exoplanet_data.csv'\n",
    "# with some hypothetical data. You can create this file manually or run this code:\n",
    "csv_content = \"\"\"Name,Radius_Earth,OrbitalPeriod_days,Habitable\n",
    "Kepler-186f,1.11,129.9,True\n",
    "Kepler-1649b,1.06,8.68,False\n",
    "TRAPPIST-1e,0.91,6.10,True\n",
    "51 Pegasi b,1.50,4.23,False\n",
    "\"\"\"\n",
    "with open(\"exoplanet_data.csv\", \"w\") as f:\n",
    "    f.write(csv_content)\n",
    "\n",
    "print(\"Created dummy file 'exoplanet_data.csv'\")"
   ]
  },
  {
   "cell_type": "code",
   "execution_count": 25,
   "id": "a761bc51-d2a3-4e2e-a0ac-dc1a6e37bc95",
   "metadata": {},
   "outputs": [
    {
     "name": "stdout",
     "output_type": "stream",
     "text": [
      "\n",
      "DataFrame read from 'exoplanet_data.csv':\n",
      "           Name  Radius_Earth  OrbitalPeriod_days  Habitable\n",
      "0   Kepler-186f          1.11              129.90       True\n",
      "1  Kepler-1649b          1.06                8.68      False\n",
      "2   TRAPPIST-1e          0.91                6.10       True\n",
      "3   51 Pegasi b          1.50                4.23      False\n",
      "\n",
      "Info about the DataFrame:\n",
      "<class 'pandas.core.frame.DataFrame'>\n",
      "RangeIndex: 4 entries, 0 to 3\n",
      "Data columns (total 4 columns):\n",
      " #   Column              Non-Null Count  Dtype  \n",
      "---  ------              --------------  -----  \n",
      " 0   Name                4 non-null      object \n",
      " 1   Radius_Earth        4 non-null      float64\n",
      " 2   OrbitalPeriod_days  4 non-null      float64\n",
      " 3   Habitable           4 non-null      bool   \n",
      "dtypes: bool(1), float64(2), object(1)\n",
      "memory usage: 232.0+ bytes\n"
     ]
    }
   ],
   "source": [
    "# Now, read the CSV file into a DataFrame:\n",
    "exoplanets_df = pd.read_csv(\"exoplanet_data.csv\")\n",
    "\n",
    "print(\"\\nDataFrame read from 'exoplanet_data.csv':\")\n",
    "print(exoplanets_df)\n",
    "\n",
    "# Check the data types Pandas inferred\n",
    "print(\"\\nInfo about the DataFrame:\")\n",
    "exoplanets_df.info()"
   ]
  },
  {
   "cell_type": "markdown",
   "id": "c1ac38d8-58d2-4fba-b863-5dd6abee997b",
   "metadata": {},
   "source": [
    "## Reading Data from Online Sources (URLs)\n",
    "\n",
    "One of the most powerful features of `pd.read_csv()` is its ability to read directly from a URL! If a CSV file is available online, you can pass its web address to `read_csv()`, and Pandas will download and load it for you. This is incredibly useful for accessing publicly available astronomical datasets.\n",
    "\n",
    "### Example 9: Reading from an Online CSV File (Exoplanet Archive Simplified Data)\n",
    "\n",
    "This is a URL pointing to a simplified CSV file often used in tutorials,\n",
    "potentially representing a small subset of data from the NASA Exoplanet Archive or similar.\n",
    "Note: Real URLs might change, and data providers might have APIs instead of static files.\n",
    "This is a demonstration of the capability."
   ]
  },
  {
   "cell_type": "code",
   "execution_count": 9,
   "id": "770409b9-c4fb-42b4-9e54-5fdfc4af3ae4",
   "metadata": {},
   "outputs": [
    {
     "name": "stdout",
     "output_type": "stream",
     "text": [
      "DataFrame read from URL:\n",
      "           name  binaryflag    mass  radius     period  semimajoraxis  \\\n",
      "0   KOI-1843.03           0  0.0014   0.054   0.176891         0.0048   \n",
      "1  Kepler-974 b           0     NaN   0.140   4.194497         0.0390   \n",
      "2   KOI-1843.02           0     NaN   0.071   6.356006         0.0520   \n",
      "3    Kepler-9 b           0  0.2500   0.840  19.224180         0.1430   \n",
      "4    Kepler-9 c           0  0.1700   0.820  39.031060         0.2290   \n",
      "\n",
      "   eccentricity  periastron  longitude  ascendingnode  ...  lastupdate  \\\n",
      "0           NaN         NaN        NaN            NaN  ...    13/07/15   \n",
      "1           NaN         NaN        NaN            NaN  ...    17/11/28   \n",
      "2           NaN         NaN        NaN            NaN  ...         NaN   \n",
      "3        0.0626         NaN        NaN            NaN  ...    15/12/03   \n",
      "4        0.0684         NaN        NaN            NaN  ...    15/12/03   \n",
      "\n",
      "   system_rightascension  system_declination system_distance  hoststar_mass  \\\n",
      "0          19 00 03.1450      +40 13 14.7985         134.833           0.52   \n",
      "1          19 00 03.1450      +40 13 14.7985         134.833           0.52   \n",
      "2          19 00 03.1450      +40 13 14.7985         134.833           0.52   \n",
      "3          19 02 17.7544      +38 24 03.1772         650.000           1.07   \n",
      "4          19 02 17.7544      +38 24 03.1772         650.000           1.07   \n",
      "\n",
      "  hoststar_radius hoststar_metallicity hoststar_temperature  hoststar_age  \\\n",
      "0            0.50                 0.07               3687.0           NaN   \n",
      "1            0.50                 0.07               3687.0           NaN   \n",
      "2            0.50                 0.07               3687.0           NaN   \n",
      "3            1.02                 0.12               5777.0           NaN   \n",
      "4            1.02                 0.12               5777.0           NaN   \n",
      "\n",
      "                list  \n",
      "0      Controversial  \n",
      "1  Confirmed planets  \n",
      "2      Controversial  \n",
      "3  Confirmed planets  \n",
      "4  Confirmed planets  \n",
      "\n",
      "[5 rows x 25 columns]\n",
      "\n",
      "Total rows loaded: 4493\n",
      "\n",
      "Number of KOI planets found: 72\n"
     ]
    }
   ],
   "source": [
    "exoplanet_url = \"https://raw.githubusercontent.com/astroryan97/Exploring-Exoplanet-Data/main/open_exoplanet_catalogue.csv\"\n",
    "\n",
    "try:\n",
    "    # Read the data directly from the URL\n",
    "    online_exoplanets_df = pd.read_csv(exoplanet_url)\n",
    "\n",
    "    print(\"DataFrame read from URL:\")\n",
    "    print(online_exoplanets_df.head()) # Print only the first few rows (head)\n",
    "    print(f\"\\nTotal rows loaded: {len(online_exoplanets_df)}\")\n",
    "\n",
    "    # Let's do a quick check - how many rows have 'KOI' in the 'NAME' column?\n",
    "    koi_planets = online_exoplanets_df[online_exoplanets_df['name'].str.contains('KOI', na=False)]\n",
    "    print(f\"\\nNumber of KOI planets found: {len(koi_planets)}\")\n",
    "\n",
    "\n",
    "except Exception as e:\n",
    "    print(f\"Could not load data from the URL. Make sure the URL is correct and accessible.\")\n",
    "    print(f\"Error details: {e}\")"
   ]
  },
  {
   "cell_type": "markdown",
   "id": "db5136c2-736e-40fb-9a7d-26be450052c6",
   "metadata": {},
   "source": [
    "## Handling Missing Data\n",
    "\n",
    "Real-world data often has gaps or missing values. Pandas represents missing numerical values as `NaN` (Not a Number). You'll need to be able to detect and handle these missing values, either by removing rows/columns with missing data or filling them in.\n",
    "\n",
    "### Example 10: Handling Missing Data"
   ]
  },
  {
   "cell_type": "code",
   "execution_count": 13,
   "id": "4e314d6a-d0d2-440e-8586-bf2bf7323ecb",
   "metadata": {},
   "outputs": [
    {
     "name": "stdout",
     "output_type": "stream",
     "text": [
      "DataFrame with missing data:\n",
      "     Object  Magnitude  Redshift\n",
      "0    Star A        2.1     0.001\n",
      "1    Star B        3.5     0.002\n",
      "2  Galaxy C        NaN     0.015\n",
      "3    Star D        4.8       NaN\n"
     ]
    }
   ],
   "source": [
    "import numpy as np\n",
    "# Let's create a DataFrame with some missing values\n",
    "data_with_missing = {\n",
    "    'Object': ['Star A', 'Star B', 'Galaxy C', 'Star D'],\n",
    "    'Magnitude': [2.1, 3.5, np.nan, 4.8], # np.nan represents a missing value\n",
    "    'Redshift': [0.001, 0.002, 0.015, np.nan]\n",
    "}\n",
    "missing_df = pd.DataFrame(data_with_missing)\n",
    "\n",
    "print(\"DataFrame with missing data:\")\n",
    "print(missing_df)"
   ]
  },
  {
   "cell_type": "code",
   "execution_count": 14,
   "id": "76e24a09-d0a1-457e-961c-a0f611e3f8a8",
   "metadata": {},
   "outputs": [
    {
     "name": "stdout",
     "output_type": "stream",
     "text": [
      "\n",
      "Checking for missing values (isnull()):\n",
      "   Object  Magnitude  Redshift\n",
      "0   False      False     False\n",
      "1   False      False     False\n",
      "2   False       True     False\n",
      "3   False      False      True\n",
      "\n",
      "Missin/g values per column:\n",
      "Object       0\n",
      "Magnitude    1\n",
      "Redshift     1\n",
      "dtype: int64\n"
     ]
    }
   ],
   "source": [
    "# Check which values are missing\n",
    "print(\"\\nChecking for missing values (isnull()):\")\n",
    "print(missing_df.isnull()) # Returns True where data is missing\n",
    "\n",
    "# Get a summary of missing values per column\n",
    "print(\"\\nMissin/g values per column:\")\n",
    "print(missing_df.isnull().sum())"
   ]
  },
  {
   "cell_type": "code",
   "execution_count": 15,
   "id": "1c4a9e51-99f9-43f6-b1d8-26d64010a527",
   "metadata": {},
   "outputs": [
    {
     "name": "stdout",
     "output_type": "stream",
     "text": [
      "\n",
      "DataFrame after dropping rows with missing data:\n",
      "   Object  Magnitude  Redshift\n",
      "0  Star A        2.1     0.001\n",
      "1  Star B        3.5     0.002\n"
     ]
    }
   ],
   "source": [
    "# Option 1: Drop rows with *any* missing values\n",
    "cleaned_df_dropped_rows = missing_df.dropna()\n",
    "print(\"\\nDataFrame after dropping rows with missing data:\")\n",
    "print(cleaned_df_dropped_rows)"
   ]
  },
  {
   "cell_type": "code",
   "execution_count": 16,
   "id": "d95a7164-68b6-4a8c-bd2e-3f49ed161fa8",
   "metadata": {},
   "outputs": [
    {
     "name": "stdout",
     "output_type": "stream",
     "text": [
      "\n",
      "DataFrame after dropping columns with missing data:\n",
      "     Object\n",
      "0    Star A\n",
      "1    Star B\n",
      "2  Galaxy C\n",
      "3    Star D\n"
     ]
    }
   ],
   "source": [
    "# Option 2: Drop columns with *any* missing values\n",
    "cleaned_df_dropped_cols = missing_df.dropna(axis=1) # axis=1 means columns\n",
    "print(\"\\nDataFrame after dropping columns with missing data:\")\n",
    "print(cleaned_df_dropped_cols)"
   ]
  },
  {
   "cell_type": "code",
   "execution_count": 17,
   "id": "56c1c8a4-eca6-403a-9260-25b4af49065e",
   "metadata": {},
   "outputs": [
    {
     "name": "stdout",
     "output_type": "stream",
     "text": [
      "\n",
      "DataFrame after filling missing values with 0:\n",
      "     Object  Magnitude  Redshift\n",
      "0    Star A        2.1     0.001\n",
      "1    Star B        3.5     0.002\n",
      "2  Galaxy C        0.0     0.015\n",
      "3    Star D        4.8     0.000\n"
     ]
    }
   ],
   "source": [
    "# Option 3: Fill missing values (e.g., with a placeholder or mean)\n",
    "filled_df = missing_df.fillna(value=0) # Fill NaN with 0\n",
    "print(\"\\nDataFrame after filling missing values with 0:\")\n",
    "print(filled_df)"
   ]
  },
  {
   "cell_type": "code",
   "execution_count": 18,
   "id": "ac1c4e95-076e-4b8f-b203-95e572693ccb",
   "metadata": {},
   "outputs": [
    {
     "name": "stdout",
     "output_type": "stream",
     "text": [
      "\n",
      "DataFrame after filling missing Magnitude with mean:\n",
      "     Object  Magnitude  Redshift\n",
      "0    Star A   2.100000     0.001\n",
      "1    Star B   3.500000     0.002\n",
      "2  Galaxy C   3.466667     0.015\n",
      "3    Star D   4.800000       NaN\n"
     ]
    }
   ],
   "source": [
    "# Fill missing magnitude with the mean magnitude (excluding NaN)\n",
    "# mean() ignores NaN by default\n",
    "mean_magnitude = missing_df['Magnitude'].mean()\n",
    "filled_df_mean_mag = missing_df.fillna({'Magnitude': mean_magnitude})\n",
    "print(\"\\nDataFrame after filling missing Magnitude with mean:\")\n",
    "print(filled_df_mean_mag)"
   ]
  },
  {
   "cell_type": "markdown",
   "id": "31a29d4a-c041-48e2-acd4-8a4c5b278f6e",
   "metadata": {},
   "source": [
    "## Exercises\n",
    "\n",
    "Time to practice your Pandas skills with astronomical data!\n",
    "\n",
    "1.  **Create a Small Catalog:** Create a DataFrame for three hypothetical stars with columns 'Name', 'Mass_Solar', and 'Radius_Solar'.\n",
    "2.  **Select Mass Column:** From your star DataFrame, select and print only the 'Mass_Solar' column.\n",
    "3.  **Select First Star:** Select and print the data for the first star using `.loc[0]`.\n",
    "4.  **Select Name and Radius for Second Star:** Select and print *only* the name and radius for the second star using a combination of row and column selection.\n",
    "5.  **Filter by Mass:** From your star DataFrame, filter and print only the stars with a mass greater than 1.0 Solar Mass.\n",
    "6.  **Add Density Column (Bonus):** Add a new column named 'Density_Solar' (relative to the Sun). Density is Mass / Volume, and Volume is proportional to Radius^3. So, Density_Solar ≈ Mass_Solar / (Radius_Solar ** 3). Calculate this for each star and add it as a new column. Print the updated DataFrame.\n",
    "7.  **Read Your Exoplanet CSV:** Load the 'exoplanet_data.csv' file you created in Example 8 back into a DataFrame.\n",
    "8.  **Filter Habitable Planets:** From the 'exoplanet_data.csv' DataFrame, filter and print only the rows where the 'Habitable' column is `True`.\n",
    "9.  **Calculate Average Radius:** Calculate and print the average 'Radius_Earth' for all exoplanets in the DataFrame loaded from 'exoplanet_data.csv'.\n",
    "10. **Read Online Data:** (If Example 9 worked) Load the online exoplanet data again from the provided URL. Calculate the average 'RADIUS' for all planets in that online dataset."
   ]
  },
  {
   "cell_type": "code",
   "execution_count": 22,
   "id": "8eaaae4a",
   "metadata": {},
   "outputs": [
    {
     "name": "stdout",
     "output_type": "stream",
     "text": [
      "Star Catalog:\n",
      "     Name  Mass_Solar  Radius_Solar\n",
      "0  Star X         1.2           1.1\n",
      "1  Star Y         0.8           0.9\n",
      "2  Star Z         1.5           1.3\n",
      "\n",
      "Mass_Solar Column:\n",
      "0    1.2\n",
      "1    0.8\n",
      "2    1.5\n",
      "Name: Mass_Solar, dtype: float64\n",
      "\n",
      "First Star Data:\n",
      "Name            Star X\n",
      "Mass_Solar         1.2\n",
      "Radius_Solar       1.1\n",
      "Name: 0, dtype: object\n",
      "\n",
      "Name and Radius of Second Star:\n",
      "Name            Star Y\n",
      "Radius_Solar       0.9\n",
      "Name: 1, dtype: object\n",
      "\n",
      "Stars with Mass > 1.0 Solar Mass:\n",
      "     Name  Mass_Solar  Radius_Solar\n",
      "0  Star X         1.2           1.1\n",
      "2  Star Z         1.5           1.3\n",
      "\n",
      "Star Catalog with Density_Solar Column:\n",
      "     Name  Mass_Solar  Radius_Solar  Density_Solar\n",
      "0  Star X         1.2           1.1       0.901578\n",
      "1  Star Y         0.8           0.9       1.097394\n",
      "2  Star Z         1.5           1.3       0.682749\n",
      "\n",
      "Exoplanet DataFrame:\n",
      "           Name  Radius_Earth  OrbitalPeriod_days  Habitable\n",
      "0   Kepler-186f          1.11              129.90       True\n",
      "1  Kepler-1649b          1.06                8.68      False\n",
      "2   TRAPPIST-1e          0.91                6.10       True\n",
      "3   51 Pegasi b          1.50                4.23      False\n",
      "\n",
      "Habitable Planets:\n",
      "          Name  Radius_Earth  OrbitalPeriod_days  Habitable\n",
      "0  Kepler-186f          1.11               129.9       True\n",
      "2  TRAPPIST-1e          0.91                 6.1       True\n",
      "\n",
      "Average Radius of Exoplanets: 1.15 Earth Radii\n",
      "\n",
      "Average Radius of Online Exoplanets: 0.39\n"
     ]
    }
   ],
   "source": [
    "# 1. Create a Small Catalog\n",
    "star_catalog = pd.DataFrame({\n",
    "\t'Name': ['Star X', 'Star Y', 'Star Z'],\n",
    "\t'Mass_Solar': [1.2, 0.8, 1.5],\n",
    "\t'Radius_Solar': [1.1, 0.9, 1.3]\n",
    "})\n",
    "print(\"Star Catalog:\")\n",
    "print(star_catalog)\n",
    "\n",
    "# 2. Select Mass Column\n",
    "mass_column = star_catalog['Mass_Solar']\n",
    "print(\"\\nMass_Solar Column:\")\n",
    "print(mass_column)\n",
    "\n",
    "# 3. Select First Star\n",
    "first_star = star_catalog.loc[0]\n",
    "print(\"\\nFirst Star Data:\")\n",
    "print(first_star)\n",
    "\n",
    "# 4. Select Name and Radius for Second Star\n",
    "second_star_name_radius = star_catalog.loc[1, ['Name', 'Radius_Solar']]\n",
    "print(\"\\nName and Radius of Second Star:\")\n",
    "print(second_star_name_radius)\n",
    "\n",
    "# 5. Filter by Mass\n",
    "stars_with_high_mass = star_catalog[star_catalog['Mass_Solar'] > 1.0]\n",
    "print(\"\\nStars with Mass > 1.0 Solar Mass:\")\n",
    "print(stars_with_high_mass)\n",
    "\n",
    "# 6. Add Density Column\n",
    "star_catalog['Density_Solar'] = star_catalog['Mass_Solar'] / (star_catalog['Radius_Solar'] ** 3)\n",
    "print(\"\\nStar Catalog with Density_Solar Column:\")\n",
    "print(star_catalog)\n",
    "\n",
    "# 7. Read Your Exoplanet CSV\n",
    "exoplanet_data = pd.read_csv(\"exoplanet_data.csv\")\n",
    "print(\"\\nExoplanet DataFrame:\")\n",
    "print(exoplanet_data)\n",
    "\n",
    "# 8. Filter Habitable Planets\n",
    "habitable_planets = exoplanet_data[exoplanet_data['Habitable'] == True]\n",
    "print(\"\\nHabitable Planets:\")\n",
    "print(habitable_planets)\n",
    "\n",
    "# 9. Calculate Average Radius\n",
    "average_radius = exoplanet_data['Radius_Earth'].mean()\n",
    "print(f\"\\nAverage Radius of Exoplanets: {average_radius:.2f} Earth Radii\")\n",
    "\n",
    "# 10. Read Online Data and Calculate Average Radius\n",
    "try:\n",
    "\tonline_exoplanets = pd.read_csv(exoplanet_url)\n",
    "\taverage_online_radius = online_exoplanets['radius'].mean()\n",
    "\tprint(f\"\\nAverage Radius of Online Exoplanets: {average_online_radius:.2f}\")\n",
    "except Exception as e:\n",
    "\tprint(\"\\nCould not load online data. Error:\", e)"
   ]
  },
  {
   "cell_type": "markdown",
   "id": "fd922857-fc75-4354-a9df-7a7792408727",
   "metadata": {},
   "source": [
    "## Summary\n",
    "\n",
    "You've now gained fundamental skills in using the Pandas library for handling and analysing tabular data! You've learned:\n",
    "\n",
    "*   The DataFrame is the core structure for labelled, mixed-type data.\n",
    "*   How to create DataFrames.\n",
    "*   How to select columns, rows, and cells using labels (`.loc`) and positions (`.iloc`).\n",
    "*   How to filter DataFrames based on single or multiple conditions.\n",
    "*   How to perform operations and add new columns.\n",
    "*   Crucially, how to read data into DataFrames from both local CSV files and online URLs.\n",
    "*   How to identify and perform basic handling of missing data.\n",
    "\n",
    "Pandas is an essential tool in the data science toolkit and is widely used in astronomy. With these basics, you are well-equipped to start exploring, cleaning, and analysing real datasets. Keep practising!\n",
    "\n",
    "**Additional Resources**\n",
    "\n",
    "Here are some resources for understanding `Pandas` \n",
    "\n",
    "Getting started with Pandas: <https://pandas.pydata.org/docs/getting_started/index.html#getting-started>\n",
    "\n",
    "Pandas user guide: <https://pandas.pydata.org/docs/user_guide/index.html#user-guide>\n",
    "\n",
    "Groupby with Pandas: <https://realpython.com/pandas-groupby/>\n",
    "\n",
    "Handling big data with pandas: <https://www.scaler.com/topics/pandas/handling-large-datasets-in-pandas/>\n",
    "\n",
    "How to handle parquet data files: <https://www.datacamp.com/tutorial/apache-parquet>\n",
    "\n",
    "Introduction to Polars: <https://www.datacamp.com/blog/an-introduction-to-polars-python-s-tool-for-large-scale-data-analysis>"
   ]
  },
  {
   "cell_type": "code",
   "execution_count": null,
   "id": "69514bee-5d4f-485d-b246-6773b4666c81",
   "metadata": {},
   "outputs": [],
   "source": []
  }
 ],
 "metadata": {
  "kernelspec": {
   "display_name": "astrovenv",
   "language": "python",
   "name": "python3"
  },
  "language_info": {
   "codemirror_mode": {
    "name": "ipython",
    "version": 3
   },
   "file_extension": ".py",
   "mimetype": "text/x-python",
   "name": "python",
   "nbconvert_exporter": "python",
   "pygments_lexer": "ipython3",
   "version": "3.9.21"
  }
 },
 "nbformat": 4,
 "nbformat_minor": 5
}
