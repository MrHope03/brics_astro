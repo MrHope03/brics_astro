{
 "cells": [
  {
   "cell_type": "markdown",
   "id": "255609e6-ab54-4a8c-a03b-9b7c5aac6624",
   "metadata": {},
   "source": [
    "# NumPy: Handling Numerical Data\n",
    "\n",
    "[![Open In Colab](https://colab.research.google.com/assets/colab-badge.svg)](https://colab.research.google.com/github/Danselem/brics_astro/blob/main/Week2/01_numpy.ipynb)\n",
    "\n",
    "Welcome back! When working with astronomical data, you'll quickly find that you need to handle large sets of numbers – lists of star brightnesses, grids of pixel values in an image, arrays of simulation results, and much more.\n",
    "\n",
    "While Python's built-in lists are versatile, they aren't the most efficient tool for performing mathematical operations on large collections of numbers. This is where **NumPy** (pronounced \"Num-py\") comes in.\n",
    "\n",
    "NumPy is a fundamental library in Python that provides essential tools for working with arrays of numbers. It makes numerical calculations faster and easier to write compared to using standard Python lists and loops. Many other scientific Python libraries, like Pandas and Matplotlib, are built on top of NumPy.\n",
    "\n",
    "In this notebook, we will introduce the core concepts of NumPy and demonstrate how you can use it to start handling your astronomical data more efficiently.\n",
    "\n",
    "**Learning Objectives:**\n",
    "\n",
    "*   Understand why NumPy is important for numerical tasks.\n",
    "*   Learn about the core NumPy object: the `ndarray`.\n",
    "*   Create NumPy arrays in different ways.\n",
    "*   Access properties of NumPy arrays (shape, size, data type).\n",
    "*   Select and modify parts of arrays using indexing and slicing.\n",
    "*   Perform basic mathematical operations on entire arrays.\n",
    "*   Use common NumPy functions for calculations.\n",
    "*   See examples of how NumPy is used in astronomy.\n",
    "\n",
    "**Prerequisites:**\n",
    "\n",
    "*   Basic familiarity with Python syntax (variables, data types, lists, basic loops).\n",
    "*   Familiarity with Jupyter Notebooks.\n",
    "\n",
    "**Note**\n",
    "If you are running this jupyter notebook from Colab, then run the next cell by pressing `SHIFT+ENTER` to install the required packages for this notebook. Otherwise, skip the next cell."
   ]
  },
  {
   "cell_type": "code",
   "execution_count": 9,
   "id": "3f51a52a-18f6-430f-a424-34f3aa785110",
   "metadata": {},
   "outputs": [
    {
     "name": "stdout",
     "output_type": "stream",
     "text": [
      "Requirement already satisfied: numpy in /home/hope/anaconda3/envs/astrovenv/lib/python3.9/site-packages (1.26.4)\n",
      "Requirement already satisfied: pandas in /home/hope/anaconda3/envs/astrovenv/lib/python3.9/site-packages (2.2.3)\n",
      "Requirement already satisfied: matplotlib in /home/hope/anaconda3/envs/astrovenv/lib/python3.9/site-packages (3.9.4)\n",
      "Requirement already satisfied: python-dateutil>=2.8.2 in /home/hope/anaconda3/envs/astrovenv/lib/python3.9/site-packages (from pandas) (2.9.0.post0)\n",
      "Requirement already satisfied: pytz>=2020.1 in /home/hope/anaconda3/envs/astrovenv/lib/python3.9/site-packages (from pandas) (2025.2)\n",
      "Requirement already satisfied: tzdata>=2022.7 in /home/hope/anaconda3/envs/astrovenv/lib/python3.9/site-packages (from pandas) (2025.2)\n",
      "Requirement already satisfied: contourpy>=1.0.1 in /home/hope/anaconda3/envs/astrovenv/lib/python3.9/site-packages (from matplotlib) (1.3.0)\n",
      "Requirement already satisfied: cycler>=0.10 in /home/hope/anaconda3/envs/astrovenv/lib/python3.9/site-packages (from matplotlib) (0.12.1)\n",
      "Requirement already satisfied: fonttools>=4.22.0 in /home/hope/anaconda3/envs/astrovenv/lib/python3.9/site-packages (from matplotlib) (4.58.0)\n",
      "Requirement already satisfied: kiwisolver>=1.3.1 in /home/hope/anaconda3/envs/astrovenv/lib/python3.9/site-packages (from matplotlib) (1.4.7)\n",
      "Requirement already satisfied: packaging>=20.0 in /home/hope/anaconda3/envs/astrovenv/lib/python3.9/site-packages (from matplotlib) (25.0)\n",
      "Requirement already satisfied: pillow>=8 in /home/hope/anaconda3/envs/astrovenv/lib/python3.9/site-packages (from matplotlib) (8.3.2)\n",
      "Requirement already satisfied: pyparsing>=2.3.1 in /home/hope/anaconda3/envs/astrovenv/lib/python3.9/site-packages (from matplotlib) (3.2.3)\n",
      "Requirement already satisfied: importlib-resources>=3.2.0 in /home/hope/anaconda3/envs/astrovenv/lib/python3.9/site-packages (from matplotlib) (6.5.2)\n",
      "Requirement already satisfied: zipp>=3.1.0 in /home/hope/anaconda3/envs/astrovenv/lib/python3.9/site-packages (from importlib-resources>=3.2.0->matplotlib) (3.21.0)\n",
      "Requirement already satisfied: six>=1.5 in /home/hope/anaconda3/envs/astrovenv/lib/python3.9/site-packages (from python-dateutil>=2.8.2->pandas) (1.17.0)\n"
     ]
    }
   ],
   "source": [
    "!pip install numpy pandas matplotlib"
   ]
  },
  {
   "cell_type": "markdown",
   "id": "c0c6d69f-9fca-4387-8c13-8b44c0721637",
   "metadata": {},
   "source": [
    "## Why Numpy\n",
    "NumPy is Essential for Numerical Tasks.\n",
    "\n",
    "Imagine you have a list of star brightness measurements defined as `star_brightnesses`."
   ]
  },
  {
   "cell_type": "code",
   "execution_count": 10,
   "id": "4049914a-73c1-47a1-b52f-0cb39c818aea",
   "metadata": {},
   "outputs": [],
   "source": [
    "star_brightnesses = [10.5, 12.1, 9.8, 11.5, 13.0]"
   ]
  },
  {
   "cell_type": "markdown",
   "id": "7deb8a90-980a-4389-97a0-29808f0fbdec",
   "metadata": {},
   "source": [
    "If you wanted to multiply each brightness by 2 (maybe converting units), with lists you might do:"
   ]
  },
  {
   "cell_type": "code",
   "execution_count": 11,
   "id": "5cbe76fb-acea-4eb3-ac58-f0b1a129a78d",
   "metadata": {},
   "outputs": [
    {
     "name": "stdout",
     "output_type": "stream",
     "text": [
      "Using Python list and loop: [21.0, 24.2, 19.6, 23.0, 26.0]\n"
     ]
    }
   ],
   "source": [
    "doubled_brightnesses_list = []\n",
    "for brightness in star_brightnesses:\n",
    "    doubled_brightnesses_list.append(brightness * 2)\n",
    "\n",
    "print(\"Using Python list and loop:\", doubled_brightnesses_list)"
   ]
  },
  {
   "cell_type": "markdown",
   "id": "11ecf28b-ce60-492b-a472-1c4811e9264a",
   "metadata": {},
   "source": [
    "This works, but for very large datasets (like millions of pixels in an image), this loop can be slow.\n",
    "\n",
    "NumPy allows us to do this much more simply and efficiently:"
   ]
  },
  {
   "cell_type": "code",
   "execution_count": 12,
   "id": "45e8e4b9-0ba9-4b92-ba78-fe49bb3664fc",
   "metadata": {},
   "outputs": [
    {
     "name": "stdout",
     "output_type": "stream",
     "text": [
      "Using NumPy: [21.  24.2 19.6 23.  26. ]\n"
     ]
    }
   ],
   "source": [
    "import numpy as np # Standard way to import NumPy\n",
    "\n",
    "# Convert the list to a NumPy array\n",
    "star_brightnesses_np = np.array(star_brightnesses)\n",
    "\n",
    "# Multiply the *entire array* by 2\n",
    "doubled_brightnesses_np = star_brightnesses_np * 2\n",
    "\n",
    "print(\"Using NumPy:\", doubled_brightnesses_np)"
   ]
  },
  {
   "cell_type": "markdown",
   "id": "0d355d2b-9b4a-47e5-b85d-362d390b64ed",
   "metadata": {},
   "source": [
    "This ability to perform operations on whole arrays at once is called `vectorisation`, and it is one reason NumPy is efficient for numerical calculations.\n",
    "\n",
    "## The `ndarray`: NumPy's Core Object\n",
    "\n",
    "The central feature of NumPy is the `ndarray` object. An `ndarray` (N-dimensional array) is a grid of values, all of the same data type. You can think of it like a table (2 dimensions), or even a cube of numbers (3 dimensions), or more!\n",
    "\n",
    "*   **Homogeneous:** All elements in a NumPy array must be of the same data type (e.g., all integers, all floating-point numbers). This is a key difference from Python lists and helps with efficiency.\n",
    "*   **N-dimensional:** Can have any number of dimensions (1D for a list of values, 2D for a table, 3D for image cubes, etc.).\n",
    "\n",
    "\n",
    "### Example 1: Creating Arrays"
   ]
  },
  {
   "cell_type": "code",
   "execution_count": 13,
   "id": "c22ca32d-4863-451b-b37f-875345a85da8",
   "metadata": {},
   "outputs": [
    {
     "name": "stdout",
     "output_type": "stream",
     "text": [
      "1D Array from list: [ 2.5  1.8  0.1 -1.4]\n",
      "\n",
      "2D Array from list of lists:\n",
      "[[101.28 -16.71  -1.46]\n",
      " [ 37.95  89.26  -2.08]]\n"
     ]
    }
   ],
   "source": [
    "# 1. From a Python list or tuple:\n",
    "# A 1-dimensional array (like a list)\n",
    "star_magnitudes = [2.5, 1.8, 0.1, -1.4]\n",
    "magnitude_array = np.array(star_magnitudes)\n",
    "print(\"1D Array from list:\", magnitude_array)\n",
    "\n",
    "# A 2-dimensional array (like a table)\n",
    "# Representing [RA, Dec, Magnitude] for two stars\n",
    "star_data = [\n",
    "    [101.28, -16.71, -1.46], # Sirius\n",
    "    [37.95, 89.26, -2.08]   # Polaris\n",
    "]\n",
    "star_array_2d = np.array(star_data)\n",
    "print(\"\\n2D Array from list of lists:\")\n",
    "print(star_array_2d)"
   ]
  },
  {
   "cell_type": "code",
   "execution_count": 5,
   "id": "09fe321a-99b9-49ee-9710-19262af3c4d9",
   "metadata": {},
   "outputs": [
    {
     "name": "stdout",
     "output_type": "stream",
     "text": [
      "\n",
      "Array of zeros: [0. 0. 0. 0. 0.]\n",
      "\n",
      "Array of ones (2x3):\n",
      "[[1. 1. 1.]\n",
      " [1. 1. 1.]]\n",
      "\n",
      "Array using arange(10): [0 1 2 3 4 5 6 7 8 9]\n",
      "\n",
      "Array using linspace(0, 1, 5): [0.   0.25 0.5  0.75 1.  ]\n"
     ]
    }
   ],
   "source": [
    "# 2. Using built-in NumPy functions:\n",
    "# An array of zeros (useful for initializing data)\n",
    "zeros_array = np.zeros(5) # A 1D array of 5 zeros\n",
    "print(\"\\nArray of zeros:\", zeros_array)\n",
    "\n",
    "# A 2x3 array of ones\n",
    "ones_array = np.ones((2, 3)) # Shape is given as a tuple (rows, columns)\n",
    "print(\"\\nArray of ones (2x3):\")\n",
    "print(ones_array)\n",
    "\n",
    "# An array with values from 0 up to (but not including) 10\n",
    "arange_array = np.arange(10)\n",
    "print(\"\\nArray using arange(10):\", arange_array)\n",
    "\n",
    "# An array of 5 evenly spaced values between 0 and 1 (inclusive)\n",
    "linspace_array = np.linspace(0, 1, 5)\n",
    "print(\"\\nArray using linspace(0, 1, 5):\", linspace_array)"
   ]
  },
  {
   "cell_type": "markdown",
   "id": "db63e77e-abb9-47bd-a8ae-873c30835553",
   "metadata": {},
   "source": [
    "## Array Attributes: What an Array Knows About Itself\n",
    "\n",
    "NumPy arrays have several useful attributes that tell you about their structure and contents.\n",
    "\n",
    "*   `.shape`: A tuple indicating the size of each dimension (rows, columns, etc.).\n",
    "*   `.size`: The total number of elements in the array.\n",
    "*   `.ndim`: The number of dimensions (e.g., 1 for a 1D array, 2 for a 2D array).\n",
    "*   `.dtype`: The data type of the elements in the array (e.g., `int64`, `float64`).\n",
    "\n",
    "\n",
    "### Example 2: Array Attributes\n",
    "Let us use the arrays we created earlier:"
   ]
  },
  {
   "cell_type": "code",
   "execution_count": 6,
   "id": "22e0192c-55ae-44d0-b1da-7c1e7d7df539",
   "metadata": {},
   "outputs": [
    {
     "name": "stdout",
     "output_type": "stream",
     "text": [
      "--- Attributes of 1D Array ---\n",
      "Array: [ 2.5  1.8  0.1 -1.4]\n",
      "Shape: (4,)\n",
      "Size: 4\n",
      "Number of dimensions: 1\n",
      "Data type: float64\n",
      "\n",
      "--- Attributes of 2D Array ---\n",
      "Array:\n",
      "[[101.28 -16.71  -1.46]\n",
      " [ 37.95  89.26  -2.08]]\n",
      "Shape: (2, 3)\n",
      "Size: 6\n",
      "Number of dimensions: 2\n",
      "Data type: float64\n"
     ]
    }
   ],
   "source": [
    "magnitude_array = np.array([2.5, 1.8, 0.1, -1.4])\n",
    "star_array_2d = np.array([[101.28, -16.71, -1.46], [37.95, 89.26, -2.08]])\n",
    "\n",
    "print(\"--- Attributes of 1D Array ---\")\n",
    "print(\"Array:\", magnitude_array)\n",
    "print(\"Shape:\", magnitude_array.shape) # (4,) means 1 dimension with 4 elements\n",
    "print(\"Size:\", magnitude_array.size)   # Total elements\n",
    "print(\"Number of dimensions:\", magnitude_array.ndim)\n",
    "print(\"Data type:\", magnitude_array.dtype)\n",
    "\n",
    "print(\"\\n--- Attributes of 2D Array ---\")\n",
    "print(\"Array:\")\n",
    "print(star_array_2d)\n",
    "print(\"Shape:\", star_array_2d.shape) # (2, 3) means 2 rows, 3 columns\n",
    "print(\"Size:\", star_array_2d.size)\n",
    "print(\"Number of dimensions:\", star_array_2d.ndim)\n",
    "print(\"Data type:\", star_array_2d.dtype) # Notice NumPy often chooses float by default for mixed numbers"
   ]
  },
  {
   "cell_type": "markdown",
   "id": "8f127e96-4ba0-4c25-b0ec-3602c66554b6",
   "metadata": {},
   "source": [
    "## Array Indexing and Slicing: Accessing Elements\n",
    "\n",
    "Just like with Python lists, you can access individual elements or portions of a NumPy array using indexing and slicing.\n",
    "\n",
    "*   **Indexing:** Accessing a single element using its position (index). Remember Python is 0-indexed!\n",
    "*   **Slicing:** Accessing a range of elements.\n",
    "\n",
    "For 2D arrays, you use a comma to separate the row index/slice from the column index/slice: `array[row_index_or_slice, column_index_or_slice]`.\n",
    "\n",
    "### Example 3: Indexing and Slicing"
   ]
  },
  {
   "cell_type": "code",
   "execution_count": 7,
   "id": "c20d202c-30f6-4ea2-91ee-cd7eb64c40c8",
   "metadata": {},
   "outputs": [
    {
     "name": "stdout",
     "output_type": "stream",
     "text": [
      "Original Array:\n",
      "[[ 1.0128e+02 -1.6710e+01 -1.4600e+00]\n",
      " [ 3.7950e+01  8.9260e+01 -2.0800e+00]\n",
      " [ 2.1742e+02 -6.2680e+01  1.3000e-01]]\n",
      "\n",
      "--- Indexing ---\n",
      "Polaris's magnitude: -2.08\n"
     ]
    }
   ],
   "source": [
    "star_data = np.array([\n",
    "    [101.28, -16.71, -1.46],  # Row 0 (Sirius)\n",
    "    [37.95, 89.26, -2.08],    # Row 1 (Polaris)\n",
    "    [217.42, -62.68, 0.13]    # Row 2 (Proxima Centauri)\n",
    "])\n",
    "print(\"Original Array:\")\n",
    "print(star_data)\n",
    "\n",
    "print(\"\\n--- Indexing ---\")\n",
    "# Get the value at row 1, column 2 (Polaris's magnitude)\n",
    "polaris_magnitude = star_data[1, 2]\n",
    "print(\"Polaris's magnitude:\", polaris_magnitude)"
   ]
  },
  {
   "cell_type": "code",
   "execution_count": 8,
   "id": "18c976ea-1d4a-4bff-bd9c-8424918c711d",
   "metadata": {},
   "outputs": [
    {
     "name": "stdout",
     "output_type": "stream",
     "text": [
      "Sirius's RA: 101.28\n",
      "\n",
      "Proxima Centauri's data (row 2): [ 2.1742e+02 -6.2680e+01  1.3000e-01]\n",
      "Declinations of all stars (column 1): [-16.71  89.26 -62.68]\n",
      "\n",
      "--- Slicing ---\n",
      "First two rows:\n",
      "[[101.28 -16.71  -1.46]\n",
      " [ 37.95  89.26  -2.08]]\n"
     ]
    }
   ],
   "source": [
    "# Get the value at row 0, column 0 (Sirius's RA)\n",
    "sirius_ra = star_data[0, 0]\n",
    "print(\"Sirius's RA:\", sirius_ra)\n",
    "\n",
    "# Get an entire row (Row 2 - Proxima Centauri data)\n",
    "proxima_row = star_data[2, :] # ':' means select all columns in this row\n",
    "print(\"\\nProxima Centauri's data (row 2):\", proxima_row)\n",
    "\n",
    "# Get an entire column (Column 1 - Declination for all stars)\n",
    "declination_column = star_data[:, 1] # ':' means select all rows in this column\n",
    "print(\"Declinations of all stars (column 1):\", declination_column)\n",
    "\n",
    "\n",
    "print(\"\\n--- Slicing ---\")\n",
    "# Get the first two rows\n",
    "first_two_rows = star_data[0:2, :] # From row 0 up to (not including) row 2, all columns\n",
    "print(\"First two rows:\")\n",
    "print(first_two_rows)"
   ]
  },
  {
   "cell_type": "code",
   "execution_count": 9,
   "id": "8ff50657-d115-4a9b-8086-0bac1707eb9a",
   "metadata": {},
   "outputs": [
    {
     "name": "stdout",
     "output_type": "stream",
     "text": [
      "Declination and Magnitude columns:\n",
      "[[-16.71  -1.46]\n",
      " [ 89.26  -2.08]\n",
      " [-62.68   0.13]]\n",
      "RA and Dec for first two stars:\n",
      "[[101.28 -16.71]\n",
      " [ 37.95  89.26]]\n"
     ]
    }
   ],
   "source": [
    "# Get columns 1 and 2 (Dec and Magnitude) for all stars\n",
    "dec_mag_columns = star_data[:, 1:3] # All rows, from column 1 up to (not including) column 3\n",
    "print(\"Declination and Magnitude columns:\")\n",
    "print(dec_mag_columns)\n",
    "\n",
    "# Get the RA and Dec for the first two stars\n",
    "first_two_stars_ra_dec = star_data[0:2, 0:2]\n",
    "print(\"RA and Dec for first two stars:\")\n",
    "print(first_two_stars_ra_dec)"
   ]
  },
  {
   "cell_type": "code",
   "execution_count": 10,
   "id": "e54b3972-4698-4716-a4b0-11d949df2c55",
   "metadata": {},
   "outputs": [
    {
     "name": "stdout",
     "output_type": "stream",
     "text": [
      "\n",
      "Array after updating Polaris's magnitude:\n",
      "[[ 1.0128e+02 -1.6710e+01 -1.4600e+00]\n",
      " [ 3.7950e+01  8.9260e+01 -1.8000e+00]\n",
      " [ 2.1742e+02 -6.2680e+01  1.3000e-01]]\n"
     ]
    }
   ],
   "source": [
    "# Modifying an element using indexing\n",
    "star_data[1, 2] = -1.80 # Update Polaris's magnitude\n",
    "print(\"\\nArray after updating Polaris's magnitude:\")\n",
    "print(star_data)"
   ]
  },
  {
   "cell_type": "markdown",
   "id": "e7b80672-b592-4efc-af63-04a91cbd26a8",
   "metadata": {},
   "source": [
    "## Basic Operations on Arrays\n",
    "\n",
    "You can perform mathematical operations directly on entire arrays. NumPy applies the operation element-wise (to each element) or uses broadcasting when operating between arrays of different shapes or between an array and a single number.\n",
    "\n",
    "### Example 4: Array Arithmetic"
   ]
  },
  {
   "cell_type": "code",
   "execution_count": 11,
   "id": "e955e06a-42f6-43f6-bf78-441cd3a3cd31",
   "metadata": {},
   "outputs": [
    {
     "name": "stdout",
     "output_type": "stream",
     "text": [
      "Magnitudes + offset array: [ 2.6  1.9  0.2 -1.3]\n",
      "Magnitudes - offset array: [ 2.4  1.7  0.  -1.5]\n"
     ]
    }
   ],
   "source": [
    "magnitudes = np.array([2.5, 1.8, 0.1, -1.4])\n",
    "offsets = np.array([0.1, 0.1, 0.1, 0.1]) # An array of same shape\n",
    "\n",
    "# Addition: Add an offset to all magnitudes\n",
    "shifted_magnitudes = magnitudes + offsets\n",
    "print(\"Magnitudes + offset array:\", shifted_magnitudes)\n",
    "\n",
    "# Subtraction:\n",
    "subtracted_values = magnitudes - offsets\n",
    "print(\"Magnitudes - offset array:\", subtracted_values)"
   ]
  },
  {
   "cell_type": "code",
   "execution_count": 12,
   "id": "ba512f2c-409d-4995-a6aa-f6c0c7cb265e",
   "metadata": {},
   "outputs": [
    {
     "name": "stdout",
     "output_type": "stream",
     "text": [
      "Magnitudes * 2: [ 5.   3.6  0.2 -2.8]\n",
      "Magnitudes / 4: [ 0.625  0.45   0.025 -0.35 ]\n",
      "Magnitudes converted to relative fluxes: [0.1        0.19054607 0.91201084 3.63078055]\n"
     ]
    }
   ],
   "source": [
    "# Multiplication: Double the magnitudes\n",
    "doubled_magnitudes = magnitudes * 2 # Multiplying by a single number (broadcasting)\n",
    "print(\"Magnitudes * 2:\", doubled_magnitudes)\n",
    "\n",
    "# Division: Divide magnitudes by 4\n",
    "divided_magnitudes = magnitudes / 4.0\n",
    "print(\"Magnitudes / 4:\", divided_magnitudes)\n",
    "\n",
    "# Exponentiation: Calculate 10 raised to the power of -0.4 * magnitude\n",
    "# This is how you convert magnitudes back to relative flux/brightness\n",
    "relative_fluxes = 10**(-0.4 * magnitudes)\n",
    "print(\"Magnitudes converted to relative fluxes:\", relative_fluxes)"
   ]
  },
  {
   "cell_type": "markdown",
   "id": "5ae85296-eaf8-41b2-ac20-2f004e3ceca1",
   "metadata": {},
   "source": [
    "### Example 5: Array Comparisons"
   ]
  },
  {
   "cell_type": "code",
   "execution_count": 13,
   "id": "562d5b87-69e2-43ae-97de-031ab864e0bd",
   "metadata": {},
   "outputs": [
    {
     "name": "stdout",
     "output_type": "stream",
     "text": [
      "Is magnitude < 1.0? [False False  True  True False  True]\n"
     ]
    }
   ],
   "source": [
    "magnitudes = np.array([2.5, 1.8, 0.1, -1.4, 3.0, 0.5])\n",
    "\n",
    "# Find stars brighter than magnitude 1.0 (remember smaller magnitude = brighter)\n",
    "is_brighter_than_1 = magnitudes < 1.0\n",
    "print(\"Is magnitude < 1.0?\", is_brighter_than_1) # Returns a boolean array"
   ]
  },
  {
   "cell_type": "code",
   "execution_count": 14,
   "id": "e3792efa-6b2e-4260-b78d-679f2a26e33d",
   "metadata": {},
   "outputs": [
    {
     "name": "stdout",
     "output_type": "stream",
     "text": [
      "Magnitudes of stars brighter than 1.0: [ 0.1 -1.4  0.5]\n"
     ]
    }
   ],
   "source": [
    "# Use the boolean array for filtering (Fancy Indexing)\n",
    "bright_stars = magnitudes[is_brighter_than_1]\n",
    "print(\"Magnitudes of stars brighter than 1.0:\", bright_stars)"
   ]
  },
  {
   "cell_type": "code",
   "execution_count": 15,
   "id": "5c79cb67-cd6f-49f1-8052-df5d85036e2e",
   "metadata": {},
   "outputs": [
    {
     "name": "stdout",
     "output_type": "stream",
     "text": [
      "\n",
      "Is magnitude == 0.1? [False False  True False False False]\n"
     ]
    }
   ],
   "source": [
    "# Find stars with magnitude exactly equal to 0.1\n",
    "is_mag_0_1 = magnitudes == 0.1\n",
    "print(\"\\nIs magnitude == 0.1?\", is_mag_0_1)"
   ]
  },
  {
   "cell_type": "code",
   "execution_count": 16,
   "id": "2aff0ab3-cbe2-4be3-baec-ccdb6a054fa2",
   "metadata": {},
   "outputs": [
    {
     "name": "stdout",
     "output_type": "stream",
     "text": [
      "\n",
      "Is magnitude between 0 and 2? [False  True  True False False  True]\n",
      "Magnitudes between 0 and 2: [1.8 0.1 0.5]\n"
     ]
    }
   ],
   "source": [
    "# Find stars with magnitude greater than 0 AND less than 2\n",
    "# Need parentheses for each comparison\n",
    "is_between_0_and_2 = (magnitudes > 0) & (magnitudes < 2) # Use '&' for element-wise AND\n",
    "print(\"\\nIs magnitude between 0 and 2?\", is_between_0_and_2)\n",
    "print(\"Magnitudes between 0 and 2:\", magnitudes[is_between_0_and_2])"
   ]
  },
  {
   "cell_type": "markdown",
   "id": "848c0947-a482-4359-84f2-9ecb09fbcf99",
   "metadata": {},
   "source": [
    "### Example 6: Common NumPy Functions"
   ]
  },
  {
   "cell_type": "code",
   "execution_count": 17,
   "id": "78edb7a3-415d-4414-a0cb-3ab7c7a6f4c9",
   "metadata": {},
   "outputs": [
    {
     "name": "stdout",
     "output_type": "stream",
     "text": [
      "Total mass: 5.4\n",
      "Average mass: 1.08\n"
     ]
    }
   ],
   "source": [
    "stellar_masses = np.array([0.8, 1.2, 0.5, 2.0, 0.9]) # Masses in solar masses\n",
    "\n",
    "# Sum: Calculate the total mass of these stars\n",
    "total_mass = np.sum(stellar_masses)\n",
    "print(\"Total mass:\", total_mass)\n",
    "\n",
    "# Mean: Calculate the average mass\n",
    "average_mass = np.mean(stellar_masses)\n",
    "print(\"Average mass:\", average_mass)"
   ]
  },
  {
   "cell_type": "code",
   "execution_count": 18,
   "id": "d178bd20-be50-4d89-ab47-cac0bc389855",
   "metadata": {},
   "outputs": [
    {
     "name": "stdout",
     "output_type": "stream",
     "text": [
      "Maximum mass: 2.0\n",
      "Minimum mass: 0.5\n"
     ]
    }
   ],
   "source": [
    "# Max: Find the maximum mass\n",
    "max_mass = np.max(stellar_masses)\n",
    "print(\"Maximum mass:\", max_mass)\n",
    "\n",
    "# Min: Find the minimum mass\n",
    "min_mass = np.min(stellar_masses)\n",
    "print(\"Minimum mass:\", min_mass)"
   ]
  },
  {
   "cell_type": "code",
   "execution_count": 19,
   "id": "2292405b-e1ca-4291-9a7a-653541a8b25d",
   "metadata": {},
   "outputs": [
    {
     "name": "stdout",
     "output_type": "stream",
     "text": [
      "\n",
      "Orbital phases (radians): [0.         1.57079633 3.14159265 4.71238898 6.28318531]\n",
      "Cosine of phases: [ 1.0000000e+00  6.1232340e-17 -1.0000000e+00 -1.8369702e-16\n",
      "  1.0000000e+00]\n",
      "Sine of phases: [ 0.0000000e+00  1.0000000e+00  1.2246468e-16 -1.0000000e+00\n",
      " -2.4492936e-16]\n"
     ]
    }
   ],
   "source": [
    "# Other useful functions (element-wise):\n",
    "orbital_phases_radians = np.array([0, np.pi/2, np.pi, 3*np.pi/2, 2*np.pi]) # Angles in radians\n",
    "print(\"\\nOrbital phases (radians):\", orbital_phases_radians)\n",
    "print(\"Cosine of phases:\", np.cos(orbital_phases_radians)) # Cosine applied to each element\n",
    "print(\"Sine of phases:\", np.sin(orbital_phases_radians))   # Sine applied to each element"
   ]
  },
  {
   "cell_type": "markdown",
   "id": "0ede06a1-d9fb-4b31-a33e-5a0d03580255",
   "metadata": {},
   "source": [
    "## Putting it Together: Astronomy Examples with NumPy\n",
    "\n",
    "Let's look at some more complete examples applying NumPy to astronomical problems.\n",
    "\n",
    "### Example 7: Analyzing a Simple Star Catalog Array\n",
    "Imagine this array represents [Temperature (K), Luminosity (Solar Lum), Distance (pc)] for several stars"
   ]
  },
  {
   "cell_type": "code",
   "execution_count": 22,
   "id": "1564bc28-00c1-4b5a-a593-ede75f3a145a",
   "metadata": {},
   "outputs": [
    {
     "name": "stdout",
     "output_type": "stream",
     "text": [
      "[[5.778e+03 1.000e+00 4.850e+00]\n",
      " [9.940e+03 8.300e+01 2.640e+00]\n",
      " [4.500e+03 3.000e-01 1.000e+01]\n",
      " [2.500e+04 1.000e+04 1.000e+02]]\n"
     ]
    }
   ],
   "source": [
    "star_catalog_data = np.array([\n",
    "    [5778, 1.0, 4.85],    # Sun\n",
    "    [9940, 83.0, 2.64],   # Sirius A\n",
    "    [4500, 0.3, 10.0],    # Alpha Centauri B\n",
    "    [25000, 10000.0, 100.0] # O-type star example\n",
    "])\n",
    "print(star_catalog_data)"
   ]
  },
  {
   "cell_type": "code",
   "execution_count": 23,
   "id": "8937fdbf-0f52-48b7-805c-31f68e579125",
   "metadata": {},
   "outputs": [
    {
     "name": "stdout",
     "output_type": "stream",
     "text": [
      "Temperatures: [ 5778.  9940.  4500. 25000.]\n",
      "Luminosities: [1.0e+00 8.3e+01 3.0e-01 1.0e+04]\n"
     ]
    }
   ],
   "source": [
    "# Select the Temperature column\n",
    "temperatures = star_catalog_data[:, 0]\n",
    "print(\"Temperatures:\", temperatures)\n",
    "\n",
    "# Select the Luminosity column\n",
    "luminosities = star_catalog_data[:, 1]\n",
    "print(\"Luminosities:\", luminosities)"
   ]
  },
  {
   "cell_type": "code",
   "execution_count": 24,
   "id": "745f1b30-857b-4f3d-aca3-13470a04a9e3",
   "metadata": {},
   "outputs": [
    {
     "name": "stdout",
     "output_type": "stream",
     "text": [
      "Distances (pc): [  4.85   2.64  10.   100.  ]\n",
      "\n",
      "Average temperature: 11304.5 K\n"
     ]
    }
   ],
   "source": [
    "# Select the Distance column\n",
    "distances_pc = star_catalog_data[:, 2]\n",
    "print(\"Distances (pc):\", distances_pc)\n",
    "\n",
    "# Calculate the average temperature of these stars\n",
    "average_temp = np.mean(temperatures)\n",
    "print(f\"\\nAverage temperature: {average_temp:.1f} K\")"
   ]
  },
  {
   "cell_type": "code",
   "execution_count": 25,
   "id": "5a8da80b-140e-40a6-bd65-b919f2b0e8e7",
   "metadata": {},
   "outputs": [
    {
     "name": "stdout",
     "output_type": "stream",
     "text": [
      "Total luminosity: 10084.3 Solar Lum\n",
      "Distances (ly): [ 15.811    8.6064  32.6    326.    ]\n"
     ]
    }
   ],
   "source": [
    "# Calculate the total luminosity\n",
    "total_luminosity = np.sum(luminosities)\n",
    "print(f\"Total luminosity: {total_luminosity:.1f} Solar Lum\")\n",
    "\n",
    "# Convert distances from parsecs (pc) to light-years (ly) (1 pc ≈ 3.26 ly)\n",
    "distances_ly = distances_pc * 3.26\n",
    "print(f\"Distances (ly): {distances_ly}\")"
   ]
  },
  {
   "cell_type": "markdown",
   "id": "292d80ea-66af-49ce-aca4-6e4ed405df5b",
   "metadata": {},
   "source": [
    "### Example 8: Simulating Brightness Decrease with Distance\n",
    "\n",
    "Assume initial brightness at a reference distance is 100 (arbitrary units)"
   ]
  },
  {
   "cell_type": "code",
   "execution_count": 1,
   "id": "91e55e6b-a087-4d15-ad8f-91c8a727993a",
   "metadata": {},
   "outputs": [
    {
     "ename": "NameError",
     "evalue": "name 'np' is not defined",
     "output_type": "error",
     "traceback": [
      "\u001b[0;31m---------------------------------------------------------------------------\u001b[0m",
      "\u001b[0;31mNameError\u001b[0m                                 Traceback (most recent call last)",
      "Cell \u001b[0;32mIn[1], line 4\u001b[0m\n\u001b[1;32m      1\u001b[0m initial_brightness \u001b[38;5;241m=\u001b[39m \u001b[38;5;241m100.0\u001b[39m\n\u001b[1;32m      3\u001b[0m \u001b[38;5;66;03m# Create an array of increasing distances\u001b[39;00m\n\u001b[0;32m----> 4\u001b[0m distances \u001b[38;5;241m=\u001b[39m \u001b[43mnp\u001b[49m\u001b[38;5;241m.\u001b[39marray([\u001b[38;5;241m1\u001b[39m, \u001b[38;5;241m2\u001b[39m, \u001b[38;5;241m3\u001b[39m, \u001b[38;5;241m4\u001b[39m, \u001b[38;5;241m5\u001b[39m, \u001b[38;5;241m10\u001b[39m]) \u001b[38;5;66;03m# Distances in some unit\u001b[39;00m\n\u001b[1;32m      6\u001b[0m \u001b[38;5;66;03m# Brightness decreases with the square of the distance (Brightness = Initial / Distance^2)\u001b[39;00m\n\u001b[1;32m      7\u001b[0m brightness_at_distance \u001b[38;5;241m=\u001b[39m initial_brightness \u001b[38;5;241m/\u001b[39m (distances \u001b[38;5;241m*\u001b[39m\u001b[38;5;241m*\u001b[39m \u001b[38;5;241m2\u001b[39m)\n",
      "\u001b[0;31mNameError\u001b[0m: name 'np' is not defined"
     ]
    }
   ],
   "source": [
    "initial_brightness = 100.0\n",
    "\n",
    "# Create an array of increasing distances\n",
    "distances = np.array([1, 2, 3, 4, 5, 10]) # Distances in some unit\n",
    "\n",
    "# Brightness decreases with the square of the distance (Brightness = Initial / Distance^2)\n",
    "brightness_at_distance = initial_brightness / (distances ** 2)\n",
    "\n",
    "print(f\"Brightness at distances {distances}: \\n {brightness_at_distance}\")"
   ]
  },
  {
   "cell_type": "code",
   "execution_count": 28,
   "id": "b9764925-427f-40ab-8190-a0514dffaa7b",
   "metadata": {},
   "outputs": [
    {
     "name": "stdout",
     "output_type": "stream",
     "text": [
      "\n",
      "Is brightness below 5.0? [False False False False  True  True]\n",
      "Distances where brightness is below 5.0: [ 5 10]\n"
     ]
    }
   ],
   "source": [
    "# Find distances where brightness is below a threshold (e.g., 5)\n",
    "threshold = 5.0\n",
    "is_below_threshold = brightness_at_distance < threshold\n",
    "print(f\"\\nIs brightness below {threshold}? {is_below_threshold}\")\n",
    "print(f\"Distances where brightness is below {threshold}: {distances[is_below_threshold]}\")"
   ]
  },
  {
   "cell_type": "markdown",
   "id": "7e6b575e-690d-410b-9d20-4003c12bcd6c",
   "metadata": {},
   "source": [
    "### Example 9: Simple 2D Image Data (Grayscale)\n",
    "\n",
    "Imagine a small 3x3 pixel image represented as a 2D array of pixel intensity values\n"
   ]
  },
  {
   "cell_type": "code",
   "execution_count": 29,
   "id": "0f3f8603-d79e-4d13-9e1a-47ae0cd8c6c5",
   "metadata": {},
   "outputs": [
    {
     "name": "stdout",
     "output_type": "stream",
     "text": [
      "Image Data (3x3 array):\n",
      "[[10 20 15]\n",
      " [30 25 35]\n",
      " [ 5 15 10]]\n",
      "Shape of image: (3, 3)\n"
     ]
    }
   ],
   "source": [
    "image_data = np.array([\n",
    "    [10, 20, 15],\n",
    "    [30, 25, 35],\n",
    "    [5, 15, 10]\n",
    "])\n",
    "print(\"Image Data (3x3 array):\")\n",
    "print(image_data)\n",
    "print(\"Shape of image:\", image_data.shape)"
   ]
  },
  {
   "cell_type": "code",
   "execution_count": 30,
   "id": "c8cfe1ad-1ba0-4ffb-94e5-8671722ce2b4",
   "metadata": {},
   "outputs": [
    {
     "name": "stdout",
     "output_type": "stream",
     "text": [
      "\n",
      "Center pixel value: 25\n"
     ]
    }
   ],
   "source": [
    "# Accessing a specific pixel (e.g., the center pixel)\n",
    "center_pixel = image_data[1, 1]\n",
    "print(\"\\nCenter pixel value:\", center_pixel)"
   ]
  },
  {
   "cell_type": "code",
   "execution_count": 31,
   "id": "da81f2c4-a178-4c82-bb67-0bb5101c5005",
   "metadata": {},
   "outputs": [
    {
     "name": "stdout",
     "output_type": "stream",
     "text": [
      "Middle row of pixels: [30 25 35]\n"
     ]
    }
   ],
   "source": [
    "# Get a row of pixels (e.g., the middle row)\n",
    "middle_row = image_data[1, :]\n",
    "print(\"Middle row of pixels:\", middle_row)"
   ]
  },
  {
   "cell_type": "code",
   "execution_count": 32,
   "id": "5c57745b-f1c1-41a5-940c-f26955c4bec2",
   "metadata": {},
   "outputs": [
    {
     "name": "stdout",
     "output_type": "stream",
     "text": [
      "First column of pixels: [10 30  5]\n"
     ]
    }
   ],
   "source": [
    "# Get a column of pixels (e.g., the first column)\n",
    "first_column = image_data[:, 0]\n",
    "print(\"First column of pixels:\", first_column)"
   ]
  },
  {
   "cell_type": "code",
   "execution_count": 33,
   "id": "a357ba1d-0151-4e0b-8918-615cf8ea6630",
   "metadata": {},
   "outputs": [
    {
     "name": "stdout",
     "output_type": "stream",
     "text": [
      "\n",
      "Average pixel intensity: 18.33\n"
     ]
    }
   ],
   "source": [
    "# Calculate the average pixel intensity in the image\n",
    "average_intensity = np.mean(image_data)\n",
    "print(f\"\\nAverage pixel intensity: {average_intensity:.2f}\")"
   ]
  },
  {
   "cell_type": "code",
   "execution_count": 34,
   "id": "ff75751d-c2e0-43cd-9716-5307f0c0df06",
   "metadata": {},
   "outputs": [
    {
     "name": "stdout",
     "output_type": "stream",
     "text": [
      "Mask for bright pixels (>20):\n",
      " [[False False False]\n",
      " [ True  True  True]\n",
      " [False False False]]\n"
     ]
    }
   ],
   "source": [
    "# Find pixels with intensity greater than 20\n",
    "bright_pixels_mask = image_data > 20\n",
    "print(\"Mask for bright pixels (>20):\\n\", bright_pixels_mask)"
   ]
  },
  {
   "cell_type": "code",
   "execution_count": 35,
   "id": "a3e81d6c-0ce1-4324-ba5b-fd57b82f61dc",
   "metadata": {},
   "outputs": [
    {
     "name": "stdout",
     "output_type": "stream",
     "text": [
      "Values of bright pixels: [30 25 35]\n"
     ]
    }
   ],
   "source": [
    "# Get the values of bright pixels\n",
    "bright_pixel_values = image_data[bright_pixels_mask]\n",
    "print(\"Values of bright pixels:\", bright_pixel_values)"
   ]
  },
  {
   "cell_type": "markdown",
   "id": "30e08627-1534-4830-bfc5-403a250f71b2",
   "metadata": {},
   "source": [
    "## Saving and Loading NumPy Arrays\n",
    "\n",
    "In astronomy, you'll often need to save arrays you've created or manipulated to a file so you can use them later or share them with others. You'll also need to load arrays that someone else has saved. NumPy provides convenient functions for this.\n",
    "\n",
    "There are two main approaches for beginners:\n",
    "\n",
    "1.  **NumPy's binary format (`.npy`):** This is the most efficient way to save and load NumPy arrays while preserving their exact data type and shape. The files are not human-readable.\n",
    "2.  **Text format (`.txt`, `.csv`, etc.):** This saves the data in a human-readable format, often with values separated by commas (CSV) or spaces. These files can be opened by other programs (like spreadsheets) but might not preserve all NumPy-specific information.\n",
    "\n",
    "Let's look at how to use `np.save()`, `np.load()`, `np.savetxt()`, and `np.loadtxt()`.\n",
    "\n",
    "### Example 10: Saving and Loading with .npy format\n",
    "Imagine this is an array of calculated star distances in light-years"
   ]
  },
  {
   "cell_type": "code",
   "execution_count": 41,
   "id": "474adabd-3d4e-4716-9174-94421832afc5",
   "metadata": {},
   "outputs": [],
   "source": [
    "star_distances_ly = np.array([4.37, 8.60, 10.0, 14.5, 36.0])"
   ]
  },
  {
   "cell_type": "markdown",
   "id": "fff2f702-75b1-4839-8c79-9353d020dae6",
   "metadata": {},
   "source": [
    "### Saving the array to a .npy file \n",
    "`np.save()` takes the filename (without extension, `.npy` is added automatically)\n",
    "and the array you want to save."
   ]
  },
  {
   "cell_type": "code",
   "execution_count": 42,
   "id": "9b1806a9-c8ec-47b4-9cea-21ab0a14d911",
   "metadata": {},
   "outputs": [
    {
     "name": "stdout",
     "output_type": "stream",
     "text": [
      "Array saved to 'my_star_distances.npy'\n"
     ]
    }
   ],
   "source": [
    "np.save(\"my_star_distances\", star_distances_ly) # This will create a file named \"my_star_distances.npy\"\n",
    "print(\"Array saved to 'my_star_distances.npy'\")"
   ]
  },
  {
   "cell_type": "markdown",
   "id": "36a56460-719c-4124-af11-ac911aca2cbe",
   "metadata": {},
   "source": [
    "### Loading the array from the .npy file\n",
    "`np.load()` takes the filename (including the `.npy` extension)"
   ]
  },
  {
   "cell_type": "code",
   "execution_count": 43,
   "id": "72781894-3be1-42fb-aafa-fc260683b433",
   "metadata": {},
   "outputs": [
    {
     "name": "stdout",
     "output_type": "stream",
     "text": [
      "\n",
      "Array loaded from 'my_star_distances.npy':\n",
      "[ 4.37  8.6  10.   14.5  36.  ]\n"
     ]
    }
   ],
   "source": [
    "loaded_distances = np.load(\"my_star_distances.npy\")\n",
    "print(\"\\nArray loaded from 'my_star_distances.npy':\")\n",
    "print(loaded_distances)"
   ]
  },
  {
   "cell_type": "code",
   "execution_count": 38,
   "id": "01f898bd-967e-4231-87b0-9bceb428f128",
   "metadata": {},
   "outputs": [
    {
     "name": "stdout",
     "output_type": "stream",
     "text": [
      "Type of loaded data: <class 'numpy.ndarray'>\n",
      "Loaded data matches original: True\n"
     ]
    }
   ],
   "source": [
    "# Verify it's a NumPy array and has the same data\n",
    "print(\"Type of loaded data:\", type(loaded_distances))\n",
    "print(\"Loaded data matches original:\", np.array_equal(star_distances_ly, loaded_distances))"
   ]
  },
  {
   "cell_type": "markdown",
   "id": "bb10ee79-9b00-452d-8fc4-e24f2d9fcac8",
   "metadata": {},
   "source": [
    "### Example 11: Saving and Loading with Text Files (.txt or .csv)\n",
    "\n",
    "Imagine this 2D array is data for a few exoplanets: [Mass (Earth), Radius (Earth), Orbital Period (days)]"
   ]
  },
  {
   "cell_type": "code",
   "execution_count": 44,
   "id": "016fe641-1569-40d8-ae08-9dd4cab62a29",
   "metadata": {},
   "outputs": [
    {
     "name": "stdout",
     "output_type": "stream",
     "text": [
      "Exoplanet data to save:\n",
      "[[1.0000e+00 1.0000e+00 3.6525e+02]\n",
      " [1.1000e-01 5.3000e-01 6.8700e+02]\n",
      " [3.1780e+02 1.1200e+01 4.3310e+03]]\n"
     ]
    }
   ],
   "source": [
    "exoplanet_table = np.array([\n",
    "    [1.0, 1.0, 365.25],   # Earth\n",
    "    [0.11, 0.53, 687.0],  # Mars\n",
    "    [317.8, 11.2, 4331.0] # Jupiter\n",
    "])\n",
    "print(\"Exoplanet data to save:\")\n",
    "print(exoplanet_table)"
   ]
  },
  {
   "cell_type": "markdown",
   "id": "9ddeea5f-1fd0-4dbb-a7d8-936b59fcff79",
   "metadata": {},
   "source": [
    "### Saving the array to a text file (e.g., CSV)\n",
    "`np.savetxt()` is used for text files.\n",
    "\n",
    "It takes the filename, the array, and optional arguments like 'delimiter'"
   ]
  },
  {
   "cell_type": "code",
   "execution_count": 45,
   "id": "c3b786ea-b284-4df7-8b51-f0fe656ba3b7",
   "metadata": {},
   "outputs": [
    {
     "name": "stdout",
     "output_type": "stream",
     "text": [
      "\n",
      "Array saved to 'exoplanet_data.csv' (CSV format)\n"
     ]
    }
   ],
   "source": [
    "np.savetxt(\"exoplanet_data.csv\", exoplanet_table, delimiter=\",\") # Use comma as separator\n",
    "print(\"\\nArray saved to 'exoplanet_data.csv' (CSV format)\")"
   ]
  },
  {
   "cell_type": "markdown",
   "id": "3c10fdbe-b931-44de-afe9-c46bbbec3f54",
   "metadata": {},
   "source": [
    "### Loading the array from the text file\n",
    "`np.loadtxt()` is used for loading text files.\n",
    "\n",
    "It takes the filename and optional arguments like 'delimiter'."
   ]
  },
  {
   "cell_type": "code",
   "execution_count": 46,
   "id": "28e30fe4-1b31-416c-be06-85eb00ce222d",
   "metadata": {},
   "outputs": [
    {
     "name": "stdout",
     "output_type": "stream",
     "text": [
      "\n",
      "Array loaded from 'exoplanet_data.csv':\n",
      "[[1.0000e+00 1.0000e+00 3.6525e+02]\n",
      " [1.1000e-01 5.3000e-01 6.8700e+02]\n",
      " [3.1780e+02 1.1200e+01 4.3310e+03]]\n",
      "Type of loaded data: <class 'numpy.ndarray'>\n",
      "Loaded data matches original:\n",
      " True\n"
     ]
    }
   ],
   "source": [
    "loaded_exoplanet_data = np.loadtxt(\"exoplanet_data.csv\", delimiter=\",\")\n",
    "print(\"\\nArray loaded from 'exoplanet_data.csv':\")\n",
    "print(loaded_exoplanet_data)\n",
    "\n",
    "# Verify it's a NumPy array and has the same data\n",
    "print(\"Type of loaded data:\", type(loaded_exoplanet_data))\n",
    "print(\"Loaded data matches original:\\n\", np.array_equal(exoplanet_table, loaded_exoplanet_data))\n",
    "\n",
    "# You can open 'exoplanet_data.csv' in a text editor or spreadsheet program to see the data."
   ]
  },
  {
   "cell_type": "markdown",
   "id": "5e322e23-1687-4b45-a334-4a834619fe0b",
   "metadata": {},
   "source": [
    "### Example 12: Loading Text File with Headers/Comments\n",
    "\n",
    "Sometimes, astronomical data files have header lines or comments.\n",
    "`np.genfromtxt()` can skip these.\n",
    "\n",
    "Imagine a file 'star_observations.txt' like this:\n",
    "\n",
    "```code\n",
    "# Observation Data - 2023-10-27\n",
    "# Star Name, Flux, Error\n",
    "  Alpha, 123.45, 1.2\n",
    "  Beta, 56.78, 0.8\n",
    "  Gamma, 234.56, 2.1\n",
    "```\n"
   ]
  },
  {
   "cell_type": "code",
   "execution_count": 21,
   "id": "b108f3fc-5b54-46b0-8054-79311d9cccaa",
   "metadata": {},
   "outputs": [],
   "source": [
    "# Create a dummy file for this example:\n",
    "file_content = \"\"\"# Observation Data - 2023-10-27\n",
    "#Star Name, Flux, Error\n",
    "#Alpha, 123.45, 1.2\n",
    "Beta, 56.78, 0.8\n",
    "Gamma, 234.56, 2.1\n",
    "\"\"\""
   ]
  },
  {
   "cell_type": "code",
   "execution_count": 22,
   "id": "781be64f-55c6-4ba3-b1f5-6238d795ab2f",
   "metadata": {},
   "outputs": [
    {
     "name": "stdout",
     "output_type": "stream",
     "text": [
      "Created dummy file 'star_observations.txt'\n"
     ]
    }
   ],
   "source": [
    "with open(\"star_observations.txt\", \"w\") as f:\n",
    "    f.write(file_content)\n",
    "print(\"Created dummy file 'star_observations.txt'\")"
   ]
  },
  {
   "cell_type": "code",
   "execution_count": 23,
   "id": "aad09009-6a16-45ac-b6f6-0d9ea5c0ce11",
   "metadata": {},
   "outputs": [
    {
     "name": "stdout",
     "output_type": "stream",
     "text": [
      "\n",
      "Data loaded from 'star_observations.txt' (skipping 2 rows):\n",
      "[('Beta',  56.78, 0.8) ('Gamma', 234.56, 2.1)]\n"
     ]
    }
   ],
   "source": [
    "# --- Loading data, skipping the first 2 lines (header/comments) ---\n",
    "# use skiprows parameter\n",
    "loaded_obs_data = np.genfromtxt(\n",
    "    \"star_observations.txt\", \n",
    "    delimiter=\",\", \n",
    "    skip_header=0,       # same effect as skiprows\n",
    "    dtype=None,          # auto-detect data types\n",
    "    encoding='utf-8'     # handle string decoding\n",
    ")\n",
    "print(\"\\nData loaded from 'star_observations.txt' (skipping 2 rows):\")\n",
    "print(loaded_obs_data)\n",
    "\n",
    "# Note: loadtxt is best for purely numerical data. For mixed data (like star names and numbers),\n",
    "# pandas read_csv (which uses numpy internally) is often more convenient."
   ]
  },
  {
   "cell_type": "markdown",
   "id": "9938ae33-8c69-48a6-aaa4-d3472e0763b5",
   "metadata": {},
   "source": [
    "## Exercises\n",
    "\n",
    "Practice makes perfect! Try these exercises to solidify your understanding of NumPy basics:\n",
    "\n",
    "1. Create a 1D NumPy array named `planet_radii` containing the approximate radii of the inner planets in Earth radii: `[0.38, 0.95, 1.0, 0.53]`.\n",
    "2. For the `planet_radii` array you created, print its `.shape`, `.size`, and `.ndim`.\n",
    "3. From the `planet_radii` array, access and print only the radius of Earth (which is the third value in the sequence).\n",
    "4. From the `planet_radii` array, access and print only the radius of Mars (the last value).\n",
    "5. Create a new NumPy array named `planet_diameters` by multiplying the `planet_radii` array by 2. Print the `planet_diameters` array.\n",
    "6. Using the `planet_radii` array, create a boolean array that is `True` for planets with a radius less than 0.6 Earth radii. Use this boolean array to print the radii of only the smaller planets.\n",
    "7. Calculate and print the average radius from the `planet_radii` array using a NumPy function.\n",
    "8. Create a 2D NumPy array named `star_distances` with shape (3, 2). Fill it with hypothetical data where each row is a star, the first column is distance in parsecs (pc), and the second column is distance in light-years (ly). You can use values like `[[5.0, 16.3], [10.0, 32.6], [2.5, 8.15]]`.\n",
    "9. From the `star_distances` array, print only the column containing distances in light-years.\n",
    "10. From the `star_distances` array, find and print the maximum distance in the parsecs column.\n",
    "11. Save the planet_radii array you created earlier `([0.38, 0.95, 1.0, 0.53])` to a .npy file named `inner_planet_radii.npy`. Then, load this file into a new variable and print it to verify.\n",
    "12. Save the star_distances 2D array you created earlier `([[5.0, 16.3], [10.0, 32.6], [2.5, 8.15]])` to a CSV file named `star_distances.csv` using a comma as the delimiter.\n",
    "13.  Load the `star_distances.csv` file back into a NumPy array and print it."
   ]
  },
  {
   "cell_type": "code",
   "execution_count": null,
   "id": "096536a9",
   "metadata": {},
   "outputs": [
    {
     "name": "stdout",
     "output_type": "stream",
     "text": [
      "(4,) 4 1\n",
      "1.0\n",
      "0.53\n",
      "[0.76 1.9  2.   1.06]\n",
      "[ True False False  True]\n",
      "0.7150000000000001\n",
      "[16.3  32.6   8.15]\n",
      "10.0\n"
     ]
    }
   ],
   "source": [
    "import numpy as np\n",
    "\n",
    "planet_radii = np.array([0.38, 0.95, 1.0, 0.53])  # Radii in Earth radii\n",
    "print(planet_radii.shape, planet_radii.size, planet_radii.ndim)\n",
    "print(planet_radii[2])\n",
    "print(planet_radii[-1])\n",
    "print(planet_radii*2)\n",
    "print(planet_radii < 0.6)\n",
    "print(planet_radii.mean())\n",
    "star_distances = np.array([[5.0, 16.3], [10.0, 32.6], [2.5, 8.15]])\n",
    "print(star_distances[:, 1]) \n",
    "print(star_distances[:, 0].max())"
   ]
  },
  {
   "cell_type": "markdown",
   "id": "bb903d7f-ff17-4898-9814-3b258e7a141c",
   "metadata": {},
   "source": [
    "## Summary\n",
    "\n",
    "Congratulations! You've taken your first steps into using NumPy, a powerful library for numerical operations in Python. You've learned about:\n",
    "\n",
    "*   The importance of NumPy for efficient numerical calculations, especially with arrays.\n",
    "*   The core `ndarray` object.\n",
    "*   Creating 1D and 2D arrays.\n",
    "*   Checking array attributes (`.shape`, `.size`, `.ndim`, `.dtype`).\n",
    "*   Accessing and modifying array elements using indexing and slicing.\n",
    "*   Performing element-wise arithmetic and comparison operations on arrays.\n",
    "*   Using common NumPy functions like `sum()`, `mean()`, `max()`, and `min()`.\n",
    "*   Saving and loading arrays using `np.save()`, `np.load()`, `np.savetxt()`, `np.loadtxt()` and `np.genfromtxt()`.\n",
    "\n",
    "NumPy is a foundational tool in the scientific Python ecosystem. As you continue your journey in astronomy and programming, you'll find it indispensable for analysing data, running simulations, visualising results and saving and loading arrays. Keep practising these fundamental concepts!\n",
    "\n",
    "**Additional Resources**\n",
    "\n",
    "Numpy user guide: <https://numpy.org/doc/stable/user/index.html>\n",
    "\n",
    "Numpy for beginners: <https://numpy.org/doc/stable/user/absolute_beginners.html>\n",
    "\n",
    "Numpy arrays: <https://www.datacamp.com/tutorial/python-numpy-tutorial>\n",
    "\n",
    "Vectors and matrices: <https://www.kaggle.com/code/jhossain/introduction-to-numpy-vectors-and-matrices>"
   ]
  },
  {
   "cell_type": "code",
   "execution_count": null,
   "id": "186f21df-4b33-46da-acca-bd3cb6abb49b",
   "metadata": {},
   "outputs": [],
   "source": []
  }
 ],
 "metadata": {
  "kernelspec": {
   "display_name": "astrovenv",
   "language": "python",
   "name": "python3"
  },
  "language_info": {
   "codemirror_mode": {
    "name": "ipython",
    "version": 3
   },
   "file_extension": ".py",
   "mimetype": "text/x-python",
   "name": "python",
   "nbconvert_exporter": "python",
   "pygments_lexer": "ipython3",
   "version": "3.9.21"
  }
 },
 "nbformat": 4,
 "nbformat_minor": 5
}
